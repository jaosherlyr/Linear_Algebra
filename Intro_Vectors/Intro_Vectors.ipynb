{
 "cells": [
  {
   "cell_type": "markdown",
   "source": [
    "# Answers\n",
    "\n",
    "1. Let $\\textbf{u} = (1, -2, 4)$ and $\\textbf{v} = (3, 5, 1)$ and $\\textbf{w} = (2, 1, -3)$ find:\n",
    "a. $3\\textbf{u} - 2\\textbf{v}$\n",
    "\n",
    "*Manual Solution*\n",
    "$$\n",
    "\\begin{align}\n",
    "    3\\textbf{u} - 2\\textbf{v} &= 3(1, (-2), 4) - 2(3, 5, 1) \\\\\n",
    "        &= (3, (-6), 12) - (6, 10, 2) \\\\\n",
    "        3\\textbf{u} - 2\\textbf{v} &= (-3, -16, 10)\n",
    "\\end{align}\n",
    "$$\n",
    "\n",
    "*Pythonic Solution*"
   ],
   "metadata": {
    "collapsed": false
   }
  },
  {
   "cell_type": "code",
   "execution_count": 3,
   "outputs": [
    {
     "name": "stdout",
     "output_type": "stream",
     "text": [
      "1.a. 3u + 2v =  [ -3 -16  10]\n"
     ]
    }
   ],
   "source": [
    "import numpy as np\n",
    "\n",
    "u = np.array([1, -2, 4])\n",
    "v = np.array([3, 5, 1])\n",
    "\n",
    "print(\"1.a. 3u + 2v = \", 3*u - 2*v)"
   ],
   "metadata": {
    "collapsed": false
   }
  },
  {
   "cell_type": "markdown",
   "source": [
    "b. $5\\textbf{u} + 3\\textbf{v} - 4\\textbf{w}$\n",
    "\n",
    "*Manual Solution*\n",
    "$$\n",
    "\\begin{align}\n",
    "    5\\textbf{u} + 3\\textbf{v} - 4\\textbf{w} &= 5(1, (-2), 4) + 3(3, 5, 1) - 4(2, 1, (-3)) \\\\\n",
    "        &= (5, (-10), 20) + (9, 15, 3) - (8, 4, (-12)) \\\\\n",
    "        &= ((5 + 9 - 8), ((-10) + 15 - 4), (20 + 3 - (-12))) \\\\\n",
    "        5\\textbf{u} + 3\\textbf{v} - 4\\textbf{w} &= (6, 1, 35)\n",
    "\\end{align}\n",
    "$$\n",
    "\n",
    "*Pythonic Solution*"
   ],
   "metadata": {
    "collapsed": false
   }
  },
  {
   "cell_type": "code",
   "execution_count": 4,
   "outputs": [
    {
     "name": "stdout",
     "output_type": "stream",
     "text": [
      "1.b. 5u + 3v - 4w =  [ 6  1 35]\n"
     ]
    }
   ],
   "source": [
    "import numpy as np\n",
    "\n",
    "u = np.array([1, -2, 4])\n",
    "v = np.array([3, 5, 1])\n",
    "w = np.array([2, 1, -3])\n",
    "\n",
    "print(\"1.b. 5u + 3v - 4w = \", 5*u + 3*v - 4*w)"
   ],
   "metadata": {
    "collapsed": false
   }
  },
  {
   "cell_type": "markdown",
   "source": [
    "c. $\\textbf{u} \\cdotp \\textbf{v}$, $\\textbf{v} \\cdotp \\textbf{w}$, $\\textbf{u} \\cdotp \\textbf{w}$\n",
    "\n",
    "*Manual Solution*\n",
    "$$\n",
    "\\begin{align}\n",
    "    \\textbf{u} \\cdotp \\textbf{v} &= (1)(3) + (-2)(5) + (4)(1) \\\\\n",
    "        &= (3) + (-10) + (4) \\\\\n",
    "    \\textbf{u} \\cdotp \\textbf{v} &= -3\n",
    "\\end{align}\n",
    "$$\n",
    "\n",
    "$$\n",
    "\\begin{align}\n",
    "    \\textbf{v} \\cdotp \\textbf{w} &= (3)(2) + (5)(1) + (1)(-3) \\\\\n",
    "        &= (6) + (5) + (-3) \\\\\n",
    "    \\textbf{v} \\cdotp \\textbf{w} &= 8\n",
    "\\end{align}\n",
    "$$\n",
    "\n",
    "$$\n",
    "\\begin{align}\n",
    "    \\textbf{u} \\cdotp \\textbf{w} &= (1)(2) + (-2)(1) + (4)(-3) \\\\\n",
    "        &= (2) + (-2) + (-12) \\\\\n",
    "    \\textbf{u} \\cdotp \\textbf{w} &= -12\n",
    "\\end{align}\n",
    "$$\n",
    "\n",
    "*Pythonic Solution*"
   ],
   "metadata": {
    "collapsed": false
   }
  },
  {
   "cell_type": "code",
   "execution_count": 5,
   "outputs": [
    {
     "name": "stdout",
     "output_type": "stream",
     "text": [
      "1.c.\n",
      "u.v =  -3\n",
      "v.w =  8\n",
      "u.w =  -12\n"
     ]
    }
   ],
   "source": [
    "import numpy as np\n",
    "\n",
    "u = np.array([1, -2, 4])\n",
    "v = np.array([3, 5, 1])\n",
    "w = np.array([2, 1, -3])\n",
    "\n",
    "print(\"1.c.\")\n",
    "print(\"u.v = \", u.dot(v))\n",
    "print(\"v.w = \", v.dot(w))\n",
    "print(\"u.w = \", u.dot(w))"
   ],
   "metadata": {
    "collapsed": false
   }
  },
  {
   "cell_type": "markdown",
   "source": [
    "d. $||\\textbf{u}||$, $||\\textbf{v}||$, $||\\textbf{w}||$\n",
    "\n",
    "*Manual Solution*\n",
    "$$\n",
    "\\begin{align}\n",
    "    ||\\textbf{u}|| &= \\sqrt{1^2 + (-2)^2 + 4^2} \\\\\n",
    "        &= \\sqrt{1 + 4 + 16} \\\\\n",
    "    ||\\textbf{u}|| &= \\sqrt{21}\n",
    "\\end{align}\n",
    "$$\n",
    "\n",
    "$$\n",
    "\\begin{align}\n",
    "    ||\\textbf{v}|| &= \\sqrt{3^2 + 5^2 + 1^2} \\\\\n",
    "        &= \\sqrt{9 + 25 + 1} \\\\\n",
    "        ||\\textbf{v}|| &= \\sqrt{35}\n",
    "\\end{align}\n",
    "$$\n",
    "\n",
    "$$\n",
    "\\begin{align}\n",
    "    ||\\textbf{w}|| &= \\sqrt{2^2 + 1^2 + (-3)^2} \\\\\n",
    "        &= \\sqrt{4 + 1 + 9} \\\\\n",
    "        ||\\textbf{w}|| &= \\sqrt{14}\n",
    "\\end{align}\n",
    "$$\n",
    "\n",
    "*Pythonic Solution*"
   ],
   "metadata": {
    "collapsed": false
   }
  },
  {
   "cell_type": "code",
   "execution_count": 10,
   "outputs": [
    {
     "name": "stdout",
     "output_type": "stream",
     "text": [
      "1.d.\n",
      "||u|| =  4.58257569495584\n",
      "||u|| =  4.58257569495584\n",
      "\n",
      "||v|| =  5.916079783099616\n",
      "||v|| =  5.916079783099616\n",
      "\n",
      "||w|| =  3.7416573867739413\n",
      "||w|| =  3.7416573867739413\n"
     ]
    }
   ],
   "source": [
    "import numpy as np\n",
    "\n",
    "u = np.array([1, -2, 4])\n",
    "v = np.array([3, 5, 1])\n",
    "w = np.array([2, 1, -3])\n",
    "\n",
    "print(\"1.d.\")\n",
    "print(\"||u|| = \", np.sqrt(u.dot(u)))\n",
    "print(\"||u|| = \", np.sqrt(21))\n",
    "print()\n",
    "print(\"||v|| = \", np.sqrt(v.dot(v)))\n",
    "print(\"||v|| = \", np.sqrt(35))\n",
    "print()\n",
    "print(\"||w|| = \", np.sqrt(w.dot(w)))\n",
    "print(\"||w|| = \", np.sqrt(14))"
   ],
   "metadata": {
    "collapsed": false
   }
  },
  {
   "cell_type": "markdown",
   "source": [
    "e. if $\\theta$ is the angle between $\\textbf{u}$ and $\\textbf{v}$, find $\\cos{\\theta}$.\n",
    "\n",
    "*Manual Solution*\n",
    "$$\n",
    "\\begin{align}\n",
    "    \\cos{\\theta} &= \\frac{\\textbf{u} \\cdotp \\textbf{v}}{||\\textbf{u}|| \\ ||\\textbf{v}||} \\\\\n",
    "        &= \\frac{(1)(3) + (-2)(5) + (4)(1)}{\\sqrt{1^2 + (-2)^2 + 4^2} \\sqrt{3^2 + 5^2 + 1^2}} \\\\\n",
    "        &= \\frac{3 + (-10) + 4}{\\sqrt{1 + 4 + 16} \\sqrt{9 + 25 + 1}} \\\\\n",
    "        \\cos{\\theta} &= \\frac{-3}{\\sqrt{21} \\sqrt{35}}\n",
    "\\end{align}\n",
    "$$\n",
    "\n",
    "*Pythonic Solution*"
   ],
   "metadata": {
    "collapsed": false
   }
  },
  {
   "cell_type": "code",
   "execution_count": 11,
   "outputs": [
    {
     "name": "stdout",
     "output_type": "stream",
     "text": [
      "1.e.\n",
      "angle =  -0.11065666703449763\n",
      "angle =  -0.11065666703449763\n"
     ]
    }
   ],
   "source": [
    "import numpy as np\n",
    "\n",
    "u = np.array([1, -2, 4])\n",
    "v = np.array([3, 5, 1])\n",
    "\n",
    "print(\"1.e.\")\n",
    "print(\"angle = \", u.dot(v) / (np.linalg.norm(u)*np.linalg.norm(v)))\n",
    "print(\"angle = \", (-3) / (np.sqrt(21)*np.sqrt(35)))"
   ],
   "metadata": {
    "collapsed": false
   }
  }
 ],
 "metadata": {
  "kernelspec": {
   "display_name": "Python 3",
   "language": "python",
   "name": "python3"
  },
  "language_info": {
   "codemirror_mode": {
    "name": "ipython",
    "version": 2
   },
   "file_extension": ".py",
   "mimetype": "text/x-python",
   "name": "python",
   "nbconvert_exporter": "python",
   "pygments_lexer": "ipython2",
   "version": "2.7.6"
  }
 },
 "nbformat": 4,
 "nbformat_minor": 0
}
