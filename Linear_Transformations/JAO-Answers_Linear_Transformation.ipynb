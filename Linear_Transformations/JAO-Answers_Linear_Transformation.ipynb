{
 "cells": [
  {
   "cell_type": "markdown",
   "source": [
    "# Linear Transformation Homework Answers\n",
    "**=======================**\n",
    "#### Name: Sherly R. Jao\n",
    "#### BSCS - 3 | CS 3101N"
   ],
   "metadata": {
    "collapsed": false
   }
  },
  {
   "cell_type": "markdown",
   "source": [
    "#### Code Challenge\n",
    "1. Develop a python function from scratch that will find the determinants of any $n \\times n$ matrix."
   ],
   "metadata": {
    "collapsed": false
   }
  },
  {
   "cell_type": "code",
   "execution_count": 47,
   "outputs": [],
   "source": [
    "def determinant(matrix):\n",
    "    if len(matrix) == 1 and len(matrix[0]) == 1:\n",
    "        return matrix[0][0]\n",
    "\n",
    "    if len(matrix) == 2 and len(matrix[0]) == 2:\n",
    "        return matrix[0][0] * matrix[1][1] - matrix[0][1] * matrix[1][0]\n",
    "\n",
    "    det = 0\n",
    "    for j in range(len(matrix[0])):\n",
    "        det += ((-1) ** j) * matrix[0][j] * determinant(minor(matrix, 0, j))\n",
    "\n",
    "    return det\n",
    "\n",
    "def minor(matrix, row, col):\n",
    "    return [row[:col] + row[col + 1:] for row in (matrix[:row] + matrix[row + 1:])]"
   ],
   "metadata": {
    "collapsed": false
   }
  },
  {
   "cell_type": "markdown",
   "source": [
    "#### Code Challenge\n",
    "2. Develop a python function from scratch that will find both the eigenvectors and eigenvalues of any $n \\times n$ matrix."
   ],
   "metadata": {
    "collapsed": false
   }
  },
  {
   "cell_type": "code",
   "execution_count": 47,
   "outputs": [],
   "source": [],
   "metadata": {
    "collapsed": false
   }
  },
  {
   "cell_type": "markdown",
   "source": [
    "#### Code Challenge\n",
    "3. Test your functions from a randomly generated $n \\times n$ matrix."
   ],
   "metadata": {
    "collapsed": false
   }
  },
  {
   "cell_type": "code",
   "execution_count": 48,
   "outputs": [
    {
     "name": "stdout",
     "output_type": "stream",
     "text": [
      "Random Matrix:\n",
      "[1, -5, -6, -2, -9, 7]\n",
      "[-2, -4, -4, -5, -2, 8]\n",
      "[-8, 0, 8, -1, -2, -4]\n",
      "[6, 6, 7, -2, -9, -10]\n",
      "[2, 1, -8, 3, -4, -2]\n",
      "[6, -1, -1, 1, -8, 5]\n",
      "\n",
      "Determinant: [-163540]\n"
     ]
    }
   ],
   "source": [
    "#  Generate random matrix for testing\n",
    "import random\n",
    "\n",
    "def generate_random_matrix():\n",
    "    #  limit to 6, so it won't be too big of a calculation\n",
    "    len_matrix = random.randint(1, 6)\n",
    "\n",
    "    matrix = [[random.randint(-10, 10) for _ in range(len_matrix)] for _ in range(len_matrix)]\n",
    "\n",
    "    return matrix\n",
    "\n",
    "random_matrix = generate_random_matrix()\n",
    "\n",
    "#  Code for finding determinant\n",
    "def get_minor(matrix, row, col):\n",
    "    return [row[:col] + row[col + 1:] for row in (matrix[:row] + matrix[row + 1:])]\n",
    "\n",
    "def get_determinant(matrix):\n",
    "    if len(matrix) == 1 and len(matrix[0]) == 1:\n",
    "        return matrix[0][0]\n",
    "\n",
    "    if len(matrix) == 2 and len(matrix[0]) == 2:\n",
    "        return matrix[0][0] * matrix[1][1] - matrix[0][1] * matrix[1][0]\n",
    "\n",
    "    det = 0\n",
    "    for j in range(len(matrix[0])):\n",
    "        det += ((-1) ** j) * matrix[0][j] * get_determinant(get_minor(matrix, 0, j))\n",
    "\n",
    "    return det\n",
    "\n",
    "#  printing output\n",
    "print(\"Random Matrix:\")\n",
    "for row in random_matrix:\n",
    "    print(row)\n",
    "\n",
    "result_determinant = determinant(random_matrix)\n",
    "print(f\"\\nDeterminant: [{result_determinant}]\")"
   ],
   "metadata": {
    "collapsed": false
   }
  }
 ],
 "metadata": {
  "kernelspec": {
   "display_name": "Python 3",
   "language": "python",
   "name": "python3"
  },
  "language_info": {
   "codemirror_mode": {
    "name": "ipython",
    "version": 2
   },
   "file_extension": ".py",
   "mimetype": "text/x-python",
   "name": "python",
   "nbconvert_exporter": "python",
   "pygments_lexer": "ipython2",
   "version": "2.7.6"
  }
 },
 "nbformat": 4,
 "nbformat_minor": 0
}
