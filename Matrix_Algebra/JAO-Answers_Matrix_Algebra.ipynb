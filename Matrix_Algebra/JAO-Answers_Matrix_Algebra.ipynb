{
 "cells": [
  {
   "cell_type": "markdown",
   "source": [
    "# Matrix Algebra Homework Answers\n",
    "**=======================**\n",
    "#### Name: Sherly R. Jao\n",
    "#### BSCS - 3 | CS 3101N"
   ],
   "metadata": {
    "collapsed": false
   }
  },
  {
   "cell_type": "markdown",
   "source": [
    "#### Code Challenge\n",
    "1. Without the use of any python libraries or modules, develop a function that can perform matrix addition, given two numpy matrices."
   ],
   "metadata": {
    "collapsed": false
   }
  },
  {
   "cell_type": "code",
   "execution_count": 179,
   "outputs": [
    {
     "name": "stdout",
     "output_type": "stream",
     "text": [
      "> Numpy Array:\n",
      "Matrix A:\n",
      "1   2  \n",
      "3   4  \n",
      "Matrix B:\n",
      "5   6  \n",
      "7   8  \n",
      "\n",
      "> Sum of Matrix A + Matrix B:\n",
      "6   8  \n",
      "10  12 \n"
     ]
    }
   ],
   "source": [
    "#  Create a numpy array\n",
    "import numpy as np\n",
    "\n",
    "#  matrix must be the same sizes\n",
    "A = np.array([[1, 2], [3, 4]])\n",
    "B = np.array([[5, 6], [7, 8]])\n",
    "\n",
    "#  function to add the two matrix\n",
    "def get_sum_matrix(A, B):\n",
    "    sum_matrix = [[0 for _ in range(len(A[0]))] for _ in range(len(A))]\n",
    "\n",
    "    for i in range(len(A)):\n",
    "        for j in range(len(A[0])):\n",
    "            sum_matrix[i][j] = A[i][j] + B[i][j]\n",
    "\n",
    "    return sum_matrix\n",
    "\n",
    "result = get_sum_matrix(A, B)\n",
    "\n",
    "#  printing output\n",
    "print(\"> Numpy Array:\")\n",
    "print(\"Matrix A:\")\n",
    "for row in A:\n",
    "    print(\" \".join(f\"{elem:<3}\" for elem in row))\n",
    "print(\"Matrix B:\")\n",
    "for row in B:\n",
    "    print(\" \".join(f\"{elem:<3}\" for elem in row))\n",
    "\n",
    "print(\"\\n> Sum of Matrix A + Matrix B:\")\n",
    "for row in result:\n",
    "    print(\" \".join(f\"{elem:<3}\" for elem in row))"
   ],
   "metadata": {
    "collapsed": false
   }
  },
  {
   "cell_type": "markdown",
   "source": [
    "#### Code Challenge\n",
    "2. Without the use of any python libraries or modules, develop a function that can multiply two numpy matrices."
   ],
   "metadata": {
    "collapsed": false
   }
  },
  {
   "cell_type": "code",
   "execution_count": 180,
   "outputs": [
    {
     "name": "stdout",
     "output_type": "stream",
     "text": [
      "> Numpy Array:\n",
      "Matrix A:\n",
      "1   2  \n",
      "3   4  \n",
      "Matrix B:\n",
      "5   6  \n",
      "7   8  \n",
      "\n",
      "> Product of Matrix A * Matrix B:\n",
      "19  22 \n",
      "43  50 \n"
     ]
    }
   ],
   "source": [
    "#  Create a numpy array\n",
    "import numpy as np\n",
    "\n",
    "A = np.array([[1, 2],[3, 4]])\n",
    "B = np.array([[5, 6], [7, 8]])\n",
    "\n",
    "#  function to add the two matrix\n",
    "def get_product_matrix(A, B):\n",
    "    #  check if the col.umn of matrix A is equal to the length of the row of matrix B\n",
    "    row_A = len(A)\n",
    "    row_B = len(B)\n",
    "    column_A = len(A[0])\n",
    "    column_B = len(B[0])\n",
    "\n",
    "    if column_A == row_B:\n",
    "        product_matrix = [[0 for _ in range(column_B)] for _ in range(row_A)]\n",
    "\n",
    "    for i in range(row_A):\n",
    "        for j in range(column_B):\n",
    "            for k in range(column_A):\n",
    "                product_matrix[i][j] += A[i][k] * B[k][j]\n",
    "\n",
    "    return product_matrix\n",
    "\n",
    "result = get_product_matrix(A, B)\n",
    "\n",
    "#  printing output\n",
    "print(\"> Numpy Array:\")\n",
    "print(\"Matrix A:\")\n",
    "for row in A:\n",
    "    print(\" \".join(f\"{elem:<3}\" for elem in row))\n",
    "print(\"Matrix B:\")\n",
    "for row in B:\n",
    "    print(\" \".join(f\"{elem:<3}\" for elem in row))\n",
    "\n",
    "print(\"\\n> Product of Matrix A * Matrix B:\")\n",
    "for row in result:\n",
    "    print(\" \".join(f\"{elem:<3}\" for elem in row))"
   ],
   "metadata": {
    "collapsed": false
   }
  },
  {
   "cell_type": "markdown",
   "source": [
    "#### Code Challenge\n",
    "3. The rule of distributivity states that given two matrices $A$ and $B$ and a scalar, $k$, then $k(A+B)=kA+kB$. Instead of writing a proof mathematically, develop two codes for $k(A+B)$ and $kA+kB$."
   ],
   "metadata": {
    "collapsed": false
   }
  },
  {
   "cell_type": "code",
   "execution_count": 181,
   "outputs": [
    {
     "name": "stdout",
     "output_type": "stream",
     "text": [
      "> Given Values:\n",
      "Scalar K: 9\n",
      "Matrix A:\n",
      "1   2  \n",
      "3   4  \n",
      "Matrix B:\n",
      "5   6  \n",
      "7   8  \n",
      "\n",
      "> Rule of Distributivity:\n",
      "Sum of K(A + B):\n",
      "54  72 \n",
      "90  108\n",
      "\n",
      "Sum of ((K * A) + (K * B)):\n",
      "54  72 \n",
      "90  108\n",
      "\n",
      "> Matrix K(A + B) == Matrix (K * A) + (K * B)\n"
     ]
    }
   ],
   "source": [
    "#  Create a numpy array\n",
    "import numpy as np\n",
    "\n",
    "#  matrix must be the same sizes\n",
    "A = np.array([[1, 2], [3, 4]])\n",
    "B = np.array([[5, 6], [7, 8]])\n",
    "\n",
    "#  assign scalar, K\n",
    "K = 9\n",
    "\n",
    "#  function to add the two matrix\n",
    "def get_sum_matrix(A, B):\n",
    "    sum_matrix = [[0 for _ in range(len(A[0]))] for _ in range(len(A))]\n",
    "\n",
    "    for i in range(len(A)):\n",
    "        for j in range(len(A[0])):\n",
    "            sum_matrix[i][j] = A[i][j] + B[i][j]\n",
    "\n",
    "    return sum_matrix\n",
    "\n",
    "#  function for multiplying scalar to matrix\n",
    "def get_scalar_multiplication(K, matrix):\n",
    "    product_matrix = [[0 for _ in range(len(matrix[0]))] for _ in range(len(matrix))]\n",
    "\n",
    "    for i in range(len(matrix)):\n",
    "        for j in range(len(matrix[0])):\n",
    "            product_matrix[i][j] = matrix[i][j] * K\n",
    "\n",
    "    return product_matrix\n",
    "\n",
    "#  get K(A + B)\n",
    "sum_matrix_AB = get_sum_matrix(A, B)\n",
    "product_K_sumAB = get_scalar_multiplication(K, sum_matrix_AB)\n",
    "\n",
    "#  get (K*A)+(K*B)\n",
    "product_KA = get_scalar_multiplication(K, A)\n",
    "product_KB = get_scalar_multiplication(K, B)\n",
    "sum_matrix_KA_KB = get_sum_matrix(product_KA, product_KB)\n",
    "\n",
    "#  printing output\n",
    "print(\"> Given Values:\")\n",
    "print(f\"Scalar K: {K}\")\n",
    "print(\"Matrix A:\")\n",
    "for row in A:\n",
    "    print(\" \".join(f\"{elem:<3}\" for elem in row))\n",
    "print(\"Matrix B:\")\n",
    "for row in B:\n",
    "    print(\" \".join(f\"{elem:<3}\" for elem in row))\n",
    "\n",
    "print(\"\\n> Rule of Distributivity:\")\n",
    "print(\"Sum of K(A + B):\")\n",
    "for row in product_K_sumAB:\n",
    "    print(\" \".join(f\"{elem:<3}\" for elem in row))\n",
    "print(\"\\nSum of ((K * A) + (K * B)):\")\n",
    "for row in sum_matrix_KA_KB:\n",
    "    print(\" \".join(f\"{elem:<3}\" for elem in row))\n",
    "\n",
    "#  check if identical\n",
    "if np.array_equal(product_K_sumAB, sum_matrix_KA_KB):\n",
    "    print(\"\\n> Matrix K(A + B) == Matrix (K * A) + (K * B)\")\n",
    "else:\n",
    "    print(\"\\n> Matrix K(A + B) and Matrix (K * A) + (K * B) are NOT EQUAL\")"
   ],
   "metadata": {
    "collapsed": false
   }
  },
  {
   "cell_type": "markdown",
   "source": [
    "#### Code Challenge\n",
    "4. Without using a python library or modules develop a function that can extract the diagonal of a numpy matrix."
   ],
   "metadata": {
    "collapsed": false
   }
  },
  {
   "cell_type": "code",
   "execution_count": 182,
   "outputs": [
    {
     "name": "stdout",
     "output_type": "stream",
     "text": [
      "> Matrix:\n",
      "1   2   7  \n",
      "3   4   8  \n",
      "5   6   9  \n",
      "\n",
      "> Diagonal of Matrix: [1, 4, 9]\n"
     ]
    }
   ],
   "source": [
    "#  Create a numpy array\n",
    "import numpy as np\n",
    "\n",
    "matrix = np.array([[1, 2, 7], [3, 4, 8], [5, 6, 9]])\n",
    "\n",
    "#  function to find diagonal\n",
    "def get_diagonal(A):\n",
    "    diagonal = []\n",
    "\n",
    "    for i in range(len(A)):\n",
    "        for j in range(len(A[0])):\n",
    "            if i == j:\n",
    "                diagonal.append(A[i][j])\n",
    "\n",
    "    return diagonal\n",
    "\n",
    "diagonal_result = get_diagonal(matrix)\n",
    "\n",
    "#  printing outputs\n",
    "print(\"> Matrix:\")\n",
    "for row in matrix:\n",
    "    print(\" \".join(f\"{elem:<3}\" for elem in row))\n",
    "\n",
    "print(f\"\\n> Diagonal of Matrix: {diagonal_result}\")"
   ],
   "metadata": {
    "collapsed": false
   }
  },
  {
   "cell_type": "markdown",
   "source": [
    "#### Code Challenge\n",
    "5. Without using a python library or modules develop a function that can find a trace of a numpy matrix."
   ],
   "metadata": {
    "collapsed": false
   }
  },
  {
   "cell_type": "code",
   "execution_count": 183,
   "outputs": [
    {
     "name": "stdout",
     "output_type": "stream",
     "text": [
      "> Matrix:\n",
      "1   2   7  \n",
      "3   4   8  \n",
      "5   6   9  \n",
      "\n",
      "> Trace of Matrix: 14\n"
     ]
    }
   ],
   "source": [
    "#  Create a numpy array\n",
    "import numpy as np\n",
    "\n",
    "matrix = np.array([[1, 2, 7], [3, 4, 8], [5, 6, 9]])\n",
    "\n",
    "#  function to find diagonal\n",
    "def get_diagonal(A):\n",
    "    diagonal = []\n",
    "\n",
    "    for i in range(len(A)):\n",
    "        for j in range(len(A[0])):\n",
    "            if i == j:\n",
    "                diagonal.append(A[i][j])\n",
    "\n",
    "    return diagonal\n",
    "\n",
    "#  get the trace of the matrix\n",
    "def get_trace(diagonal):\n",
    "    trace = 0\n",
    "\n",
    "    for i in range(len(diagonal)):\n",
    "        trace += diagonal[i]\n",
    "\n",
    "    return trace\n",
    "\n",
    "diagonal_result = get_diagonal(matrix)\n",
    "trace_result = get_trace(diagonal_result)\n",
    "\n",
    "\n",
    "#  printing outputs\n",
    "print(\"> Matrix:\")\n",
    "for row in matrix:\n",
    "    print(\" \".join(f\"{elem:<3}\" for elem in row))\n",
    "\n",
    "print(f\"\\n> Trace of Matrix: {trace_result}\")"
   ],
   "metadata": {
    "collapsed": false
   }
  },
  {
   "cell_type": "markdown",
   "source": [
    "#### Problem Solving\n",
    "1. Solve $X$ given that:\n",
    "\n",
    "$$\n",
    "\\begin{align}\n",
    "    A &= \\begin{bmatrix}\n",
    "        1 & 2 \\\\\n",
    "        3 & 4 \\\\\n",
    "    \\end{bmatrix} \\\\\n",
    "    B &= \\begin{bmatrix}\n",
    "        -1 & 0 \\\\\n",
    "        1 & 1 \\\\\n",
    "    \\end{bmatrix}\n",
    "\\end{align}\n",
    "$$"
   ],
   "metadata": {
    "collapsed": false
   }
  },
  {
   "cell_type": "markdown",
   "source": [
    "- $3X = A - 2B$\n",
    "*Solution:*\n",
    "$$\n",
    "\\begin{align}\n",
    "    3X &= \\begin{bmatrix}\n",
    "        1 & 2 \\\\\n",
    "        3 & 4 \\\\\n",
    "    \\end{bmatrix} - 2\n",
    "    \\begin{bmatrix}\n",
    "        -1 & 0 \\\\\n",
    "        1 & 1 \\\\\n",
    "    \\end{bmatrix} \\\\\n",
    "    3X &= \\begin{bmatrix}\n",
    "        1 & 2 \\\\\n",
    "        3 & 4 \\\\\n",
    "    \\end{bmatrix} -\n",
    "    \\begin{bmatrix}\n",
    "        2(-1) & 2(0) \\\\\n",
    "        2(1) & 2(1) \\\\\n",
    "    \\end{bmatrix} \\\\\n",
    "    3X &= \\begin{bmatrix}\n",
    "        1 & 2 \\\\\n",
    "        3 & 4 \\\\\n",
    "    \\end{bmatrix} -\n",
    "    \\begin{bmatrix}\n",
    "        -2 & 0 \\\\\n",
    "        2 & 2 \\\\\n",
    "    \\end{bmatrix} \\\\\n",
    "    3X &= \\begin{bmatrix}\n",
    "        3 & 2 \\\\\n",
    "        1 & 2 \\\\\n",
    "    \\end{bmatrix} \\\\\n",
    "    \\frac{3}{3}X &= \\frac{\\begin{bmatrix}\n",
    "        3 & 2 \\\\\n",
    "        1 & 2 \\\\\n",
    "    \\end{bmatrix}}{3} \\\\\n",
    "    X &= \\begin{bmatrix}\n",
    "        \\frac{3}{3} & \\frac{2}{3} \\\\\n",
    "        \\frac{1}{3} & \\frac{2}{3} \\\\\n",
    "    \\end{bmatrix} \\\\\n",
    "    X &= \\begin{bmatrix}\n",
    "        1 & \\frac{2}{3} \\\\\n",
    "        \\frac{1}{3} & \\frac{2}{3} \\\\\n",
    "    \\end{bmatrix}\n",
    "\\end{align}\n",
    "$$"
   ],
   "metadata": {
    "collapsed": false
   }
  },
  {
   "cell_type": "markdown",
   "source": [
    "- $2(A-B+2X) = 3(X-B)$\n",
    "*Solution:*\n",
    "\n",
    "$$\n",
    "\\begin{align}\n",
    "    2(A - B + 2X) &= 3(X - B) \\\\\n",
    "    2(A) - 2(B) + 2(2X) &= 3(X) - 3(B) \\\\\n",
    "    2A - 2B + 4X &= 3X - 3B \\\\\n",
    "    4X - 3X &= -2A + 2B - 3B \\\\\n",
    "    X &= -2A - B \\\\\n",
    "    X &= -2 \\begin{bmatrix}\n",
    "        1 & 2 \\\\\n",
    "        3 & 4 \\\\\n",
    "    \\end{bmatrix} - \\begin{bmatrix}\n",
    "        -1 & 0 \\\\\n",
    "        1 & 1 \\\\\n",
    "    \\end{bmatrix} \\\\\n",
    "    X &= \\begin{bmatrix}\n",
    "        -2(1) & -2(2) \\\\\n",
    "        -2(3) & -2(4) \\\\\n",
    "    \\end{bmatrix} - \\begin{bmatrix}\n",
    "        -1 & 0 \\\\\n",
    "        1 & 1 \\\\\n",
    "    \\end{bmatrix} \\\\\n",
    "    X &= \\begin{bmatrix}\n",
    "        -2 & -4 \\\\\n",
    "        -6 & -8 \\\\\n",
    "    \\end{bmatrix} - \\begin{bmatrix}\n",
    "        -1 & 0 \\\\\n",
    "        1 & 1 \\\\\n",
    "    \\end{bmatrix} \\\\\n",
    "    X &= \\begin{bmatrix}\n",
    "        -1 & -4 \\\\\n",
    "        -7 & -9 \\\\\n",
    "    \\end{bmatrix}\n",
    "\\end{align}\n",
    "$$"
   ],
   "metadata": {
    "collapsed": false
   }
  },
  {
   "cell_type": "markdown",
   "source": [
    "#### Problem Solving\n",
    "2. Write $B$ as a linear combination of the other matrices, if possible.\n",
    "\n",
    "$$\n",
    "\\begin{align}\n",
    "    A_1 &= \\begin{bmatrix}\n",
    "        1 & 2 \\\\\n",
    "        -1 & 1 \\\\\n",
    "    \\end{bmatrix} \\\\\n",
    "    A_2 &= \\begin{bmatrix}\n",
    "        0 & 1 \\\\\n",
    "        2 & 1 \\\\\n",
    "    \\end{bmatrix} \\\\\n",
    "    B &= \\begin{bmatrix}\n",
    "        2 & 5 \\\\\n",
    "        0 & 3 \\\\\n",
    "    \\end{bmatrix}\n",
    "\\end{align}\n",
    "$$"
   ],
   "metadata": {
    "collapsed": false
   }
  },
  {
   "cell_type": "markdown",
   "source": [
    "*Solution:*\n",
    "\n",
    "- Transform the matrices into linear equation using the form $A_1x + A_2y = B$:\n",
    "\n",
    "$$\n",
    "\\begin{align}\n",
    "    \\begin{bmatrix}\n",
    "        1 & 2 \\\\\n",
    "        -1 & 1 \\\\\n",
    "    \\end{bmatrix}(x) + \\begin{bmatrix}\n",
    "        0 & 1 \\\\\n",
    "        2 & 1 \\\\\n",
    "    \\end{bmatrix}(y)\n",
    "    &= \\begin{bmatrix}\n",
    "        2 & 5 \\\\\n",
    "        0 & 3 \\\\\n",
    "    \\end{bmatrix}\n",
    "\\end{align}\n",
    "$$"
   ],
   "metadata": {
    "collapsed": false
   }
  },
  {
   "cell_type": "code",
   "execution_count": 183,
   "outputs": [],
   "source": [],
   "metadata": {
    "collapsed": false
   }
  }
 ],
 "metadata": {
  "kernelspec": {
   "display_name": "Python 3",
   "language": "python",
   "name": "python3"
  },
  "language_info": {
   "codemirror_mode": {
    "name": "ipython",
    "version": 2
   },
   "file_extension": ".py",
   "mimetype": "text/x-python",
   "name": "python",
   "nbconvert_exporter": "python",
   "pygments_lexer": "ipython2",
   "version": "2.7.6"
  }
 },
 "nbformat": 4,
 "nbformat_minor": 0
}
