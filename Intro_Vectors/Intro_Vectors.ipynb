{
 "cells": [
  {
   "cell_type": "markdown",
   "source": [
    "# Answers\n",
    "\n",
    "**1. Let $\\textbf{u} = (1, -2, 4)$ and $\\textbf{v} = (3, 5, 1)$ and $\\textbf{w} = (2, 1, -3)$ find:**\n",
    "**a. $3\\textbf{u} - 2\\textbf{v}$**\n",
    "\n",
    "*Manual Solution*\n",
    "$$\n",
    "\\begin{align}\n",
    "    3\\textbf{u} - 2\\textbf{v} &= 3(1, (-2), 4) - 2(3, 5, 1) \\\\\n",
    "        &= (3, (-6), 12) - (6, 10, 2) \\\\\n",
    "        3\\textbf{u} - 2\\textbf{v} &= (-3, -16, 10)\n",
    "\\end{align}\n",
    "$$\n",
    "\n",
    "*Pythonic Solution*"
   ],
   "metadata": {
    "collapsed": false
   }
  },
  {
   "cell_type": "code",
   "execution_count": 46,
   "outputs": [
    {
     "name": "stdout",
     "output_type": "stream",
     "text": [
      "1.a. 3u + 2v =  [ -3 -16  10]\n"
     ]
    }
   ],
   "source": [
    "import numpy as np\n",
    "\n",
    "u = np.array([1, -2, 4])\n",
    "v = np.array([3, 5, 1])\n",
    "\n",
    "print(\"1.a. 3u + 2v = \", 3*u - 2*v)"
   ],
   "metadata": {
    "collapsed": false
   }
  },
  {
   "cell_type": "markdown",
   "source": [
    "**b. $5\\textbf{u} + 3\\textbf{v} - 4\\textbf{w}$**\n",
    "\n",
    "*Manual Solution*\n",
    "$$\n",
    "\\begin{align}\n",
    "    5\\textbf{u} + 3\\textbf{v} - 4\\textbf{w} &= 5(1, (-2), 4) + 3(3, 5, 1) - 4(2, 1, (-3)) \\\\\n",
    "        &= (5, (-10), 20) + (9, 15, 3) - (8, 4, (-12)) \\\\\n",
    "        &= ((5 + 9 - 8), ((-10) + 15 - 4), (20 + 3 - (-12))) \\\\\n",
    "        5\\textbf{u} + 3\\textbf{v} - 4\\textbf{w} &= (6, 1, 35)\n",
    "\\end{align}\n",
    "$$\n",
    "\n",
    "*Pythonic Solution*"
   ],
   "metadata": {
    "collapsed": false
   }
  },
  {
   "cell_type": "code",
   "execution_count": 47,
   "outputs": [
    {
     "name": "stdout",
     "output_type": "stream",
     "text": [
      "1.b. 5u + 3v - 4w =  [ 6  1 35]\n"
     ]
    }
   ],
   "source": [
    "import numpy as np\n",
    "\n",
    "u = np.array([1, -2, 4])\n",
    "v = np.array([3, 5, 1])\n",
    "w = np.array([2, 1, -3])\n",
    "\n",
    "print(\"1.b. 5u + 3v - 4w = \", 5*u + 3*v - 4*w)"
   ],
   "metadata": {
    "collapsed": false
   }
  },
  {
   "cell_type": "markdown",
   "source": [
    "**c. $\\textbf{u} \\cdotp \\textbf{v}$, $\\textbf{v} \\cdotp \\textbf{w}$, $\\textbf{u} \\cdotp \\textbf{w}$**\n",
    "\n",
    "*Manual Solution*\n",
    "$$\n",
    "\\begin{align}\n",
    "    \\textbf{u} \\cdotp \\textbf{v} &= (1)(3) + (-2)(5) + (4)(1) \\\\\n",
    "        &= (3) + (-10) + (4) \\\\\n",
    "    \\textbf{u} \\cdotp \\textbf{v} &= -3\n",
    "\\end{align}\n",
    "$$\n",
    "\n",
    "$$\n",
    "\\begin{align}\n",
    "    \\textbf{v} \\cdotp \\textbf{w} &= (3)(2) + (5)(1) + (1)(-3) \\\\\n",
    "        &= (6) + (5) + (-3) \\\\\n",
    "    \\textbf{v} \\cdotp \\textbf{w} &= 8\n",
    "\\end{align}\n",
    "$$\n",
    "\n",
    "$$\n",
    "\\begin{align}\n",
    "    \\textbf{u} \\cdotp \\textbf{w} &= (1)(2) + (-2)(1) + (4)(-3) \\\\\n",
    "        &= (2) + (-2) + (-12) \\\\\n",
    "    \\textbf{u} \\cdotp \\textbf{w} &= -12\n",
    "\\end{align}\n",
    "$$\n",
    "\n",
    "*Pythonic Solution*"
   ],
   "metadata": {
    "collapsed": false
   }
  },
  {
   "cell_type": "code",
   "execution_count": 48,
   "outputs": [
    {
     "name": "stdout",
     "output_type": "stream",
     "text": [
      "1.c.\n",
      "u.v =  -3\n",
      "v.w =  8\n",
      "u.w =  -12\n"
     ]
    }
   ],
   "source": [
    "import numpy as np\n",
    "\n",
    "u = np.array([1, -2, 4])\n",
    "v = np.array([3, 5, 1])\n",
    "w = np.array([2, 1, -3])\n",
    "\n",
    "print(\"1.c.\")\n",
    "print(\"u.v = \", u.dot(v))\n",
    "print(\"v.w = \", v.dot(w))\n",
    "print(\"u.w = \", u.dot(w))"
   ],
   "metadata": {
    "collapsed": false
   }
  },
  {
   "cell_type": "markdown",
   "source": [
    "**d. $||\\textbf{u}||$, $||\\textbf{v}||$, $||\\textbf{w}||$**\n",
    "\n",
    "*Manual Solution*\n",
    "$$\n",
    "\\begin{align}\n",
    "    ||\\textbf{u}|| &= \\sqrt{1^2 + (-2)^2 + 4^2} \\\\\n",
    "        &= \\sqrt{1 + 4 + 16} \\\\\n",
    "    ||\\textbf{u}|| &= \\sqrt{21}\n",
    "\\end{align}\n",
    "$$\n",
    "\n",
    "$$\n",
    "\\begin{align}\n",
    "    ||\\textbf{v}|| &= \\sqrt{3^2 + 5^2 + 1^2} \\\\\n",
    "        &= \\sqrt{9 + 25 + 1} \\\\\n",
    "        ||\\textbf{v}|| &= \\sqrt{35}\n",
    "\\end{align}\n",
    "$$\n",
    "\n",
    "$$\n",
    "\\begin{align}\n",
    "    ||\\textbf{w}|| &= \\sqrt{2^2 + 1^2 + (-3)^2} \\\\\n",
    "        &= \\sqrt{4 + 1 + 9} \\\\\n",
    "        ||\\textbf{w}|| &= \\sqrt{14}\n",
    "\\end{align}\n",
    "$$\n",
    "\n",
    "*Pythonic Solution*"
   ],
   "metadata": {
    "collapsed": false
   }
  },
  {
   "cell_type": "code",
   "execution_count": 49,
   "outputs": [
    {
     "name": "stdout",
     "output_type": "stream",
     "text": [
      "1.d.\n",
      "||u|| =  4.58257569495584\n",
      "||u|| =  4.58257569495584\n",
      "\n",
      "||v|| =  5.916079783099616\n",
      "||v|| =  5.916079783099616\n",
      "\n",
      "||w|| =  3.7416573867739413\n",
      "||w|| =  3.7416573867739413\n"
     ]
    }
   ],
   "source": [
    "import numpy as np\n",
    "\n",
    "u = np.array([1, -2, 4])\n",
    "v = np.array([3, 5, 1])\n",
    "w = np.array([2, 1, -3])\n",
    "\n",
    "print(\"1.d.\")\n",
    "print(\"||u|| = \", np.sqrt(u.dot(u)))\n",
    "print(\"||u|| = \", np.sqrt(21))\n",
    "print()\n",
    "print(\"||v|| = \", np.sqrt(v.dot(v)))\n",
    "print(\"||v|| = \", np.sqrt(35))\n",
    "print()\n",
    "print(\"||w|| = \", np.sqrt(w.dot(w)))\n",
    "print(\"||w|| = \", np.sqrt(14))"
   ],
   "metadata": {
    "collapsed": false
   }
  },
  {
   "cell_type": "markdown",
   "source": [
    "**e. if $\\theta$ is the angle between $\\textbf{u}$ and $\\textbf{v}$, find $\\cos{\\theta}$.**\n",
    "\n",
    "*Manual Solution*\n",
    "$$\n",
    "\\begin{align}\n",
    "    \\cos{\\theta} &= \\frac{\\textbf{u} \\cdotp \\textbf{v}}{||\\textbf{u}|| \\ ||\\textbf{v}||} \\\\\n",
    "        &= \\frac{(1)(3) + (-2)(5) + (4)(1)}{\\sqrt{1^2 + (-2)^2 + 4^2} \\sqrt{3^2 + 5^2 + 1^2}} \\\\\n",
    "        &= \\frac{3 + (-10) + 4}{\\sqrt{1 + 4 + 16} \\sqrt{9 + 25 + 1}} \\\\\n",
    "        \\cos{\\theta} &= \\frac{-3}{\\sqrt{21} \\sqrt{35}}\n",
    "\\end{align}\n",
    "$$\n",
    "\n",
    "*Pythonic Solution*"
   ],
   "metadata": {
    "collapsed": false
   }
  },
  {
   "cell_type": "code",
   "execution_count": 50,
   "outputs": [
    {
     "name": "stdout",
     "output_type": "stream",
     "text": [
      "1.e.\n",
      "angle =  -0.11065666703449763\n",
      "angle =  -0.11065666703449763\n"
     ]
    }
   ],
   "source": [
    "import numpy as np\n",
    "\n",
    "u = np.array([1, -2, 4])\n",
    "v = np.array([3, 5, 1])\n",
    "\n",
    "print(\"1.e.\")\n",
    "print(\"angle = \", u.dot(v) / (np.linalg.norm(u)*np.linalg.norm(v)))\n",
    "print(\"angle = \", (-3) / (np.sqrt(21)*np.sqrt(35)))"
   ],
   "metadata": {
    "collapsed": false
   }
  },
  {
   "cell_type": "markdown",
   "source": [
    "**f. if $\\alpha$ is the angle between $\\textbf{v}$ and $\\textbf{w}$, find $\\cos{\\alpha}$.**\n",
    "\n",
    "*Manual Selection*\n",
    "$$\n",
    "\\begin{align}\n",
    "    \\cos{\\alpha} &= \\frac{\\textbf{v} \\cdotp \\textbf{w}}{||\\textbf{v}|| \\ ||\\textbf{w}||} \\\\\n",
    "        &= \\frac{(3)(2) + (5)(1) + (1)(-3)}{\\sqrt{3^2 + 5^2 + 1^2} \\sqrt{2^2 + 1^2 + (-3)^2}} \\\\\n",
    "        &= \\frac{6 + 5 + (-3)}{\\sqrt{9 + 25 + 1} \\sqrt{4 + 1 + 9}} \\\\\n",
    "        \\cos{\\alpha} &= \\frac{8}{\\sqrt{35} \\sqrt{14}}\n",
    "\\end{align}\n",
    "$$\n",
    "\n",
    "*Pythonic Solution*"
   ],
   "metadata": {
    "collapsed": false
   }
  },
  {
   "cell_type": "code",
   "execution_count": 51,
   "outputs": [
    {
     "name": "stdout",
     "output_type": "stream",
     "text": [
      "1.f.\n",
      "angle =  0.36140316116210053\n",
      "angle =  0.36140316116210053\n"
     ]
    }
   ],
   "source": [
    "import numpy as np\n",
    "\n",
    "v = np.array([3, 5, 1])\n",
    "w = np.array([2, 1, -3])\n",
    "\n",
    "print(\"1.f.\")\n",
    "print(\"angle = \", v.dot(w) / (np.linalg.norm(v)*np.linalg.norm(w)))\n",
    "print(\"angle = \", 8 / (np.sqrt(35)*np.sqrt(14)))"
   ],
   "metadata": {
    "collapsed": false
   }
  },
  {
   "cell_type": "markdown",
   "source": [
    "**g. if $\\beta$ is the angle between $\\textbf{u}$ and $\\textbf{w}$, find $\\cos{\\beta}$.**\n",
    "\n",
    "*Manual Selection*\n",
    "$$\n",
    "\\begin{align}\n",
    "    \\cos{\\beta} &= \\frac{\\textbf{u} \\cdotp \\textbf{w}}{||\\textbf{u}|| \\ ||\\textbf{w}||} \\\\\n",
    "        &= \\frac{(1)(2) + (-2)(1) + (4)(-3)}{\\sqrt{1^2 + (-2)^2 + 4^2} \\sqrt{2^2 + 1^2 + (-3)^2}} \\\\\n",
    "        &= \\frac{2 + (-2) + (-12)}{\\sqrt{1 + 4 + 16} \\sqrt{4 + 1 + 9}} \\\\\n",
    "        \\cos{\\beta} &= \\frac{(-12)}{\\sqrt{21} \\sqrt{14}}\n",
    "\\end{align}\n",
    "$$\n",
    "\n",
    "*Pythonic Solution*"
   ],
   "metadata": {
    "collapsed": false
   }
  },
  {
   "cell_type": "code",
   "execution_count": 52,
   "outputs": [
    {
     "name": "stdout",
     "output_type": "stream",
     "text": [
      "1.g.\n",
      "angle =  -0.6998542122237653\n",
      "angle =  -0.6998542122237653\n"
     ]
    }
   ],
   "source": [
    "import numpy as np\n",
    "\n",
    "u = np.array([1, -2, 4])\n",
    "w = np.array([2, 1, -3])\n",
    "\n",
    "print(\"1.g.\")\n",
    "print(\"angle = \", u.dot(w) / (np.linalg.norm(u)*np.linalg.norm(w)))\n",
    "print(\"angle = \", (-12) / (np.sqrt(21)*np.sqrt(14)))"
   ],
   "metadata": {
    "collapsed": false
   }
  },
  {
   "cell_type": "markdown",
   "source": [
    "**h. Find $d(\\textbf{u}, \\textbf{v})$**\n",
    "\n",
    "*Manual Solution*\n",
    "$$\n",
    "\\begin{align}\n",
    "    d(\\textbf{u}, \\textbf{v}) &= ||\\textbf{u} - \\textbf{v}|| \\\\\n",
    "        &= \\sqrt{(1 - 3)^2 + ((-2) - 5)^2 + (4 - 1)^2} \\\\\n",
    "        &= \\sqrt{(-2)^2 + (-7)^2 + 3^2} \\\\\n",
    "        &= \\sqrt{4 + 49 + 9} \\\\\n",
    "        d(\\textbf{u}, \\textbf{v}) &= \\sqrt{62}\n",
    "\\end{align}\n",
    "$$\n",
    "\n",
    "*Pythonic Solution*"
   ],
   "metadata": {
    "collapsed": false
   }
  },
  {
   "cell_type": "code",
   "execution_count": 53,
   "outputs": [
    {
     "name": "stdout",
     "output_type": "stream",
     "text": [
      "1.h.\n",
      "d(u, v) =  7.874007874011811\n",
      "d(u, v) =  7.874007874011811\n"
     ]
    }
   ],
   "source": [
    "import numpy as np\n",
    "\n",
    "u = np.array([1, -2, 4])\n",
    "v = np.array([3, 5, 1])\n",
    "\n",
    "print(\"1.h.\")\n",
    "print(\"d(u, v) = \", np.linalg.norm(u-v))\n",
    "print(\"d(u, v) = \", np.sqrt(62))"
   ],
   "metadata": {
    "collapsed": false
   }
  },
  {
   "cell_type": "markdown",
   "source": [
    "**i. Find $d(\\textbf{w}, \\textbf{v})$**\n",
    "\n",
    "*Manual Solution*\n",
    "$$\n",
    "\\begin{align}\n",
    "    d(\\textbf{w}, \\textbf{v}) &= ||\\textbf{w} - \\textbf{v}|| \\\\\n",
    "        &= \\sqrt{(2 - 3)^2 + (1 - 5)^2 + ((-3) - 1)^2} \\\\\n",
    "        &= \\sqrt{(-1)^2 + (-4)^2 + (-4)^2} \\\\\n",
    "        &= \\sqrt{1 + 16 + 16} \\\\\n",
    "        d(\\textbf{w}, \\textbf{v}) &= \\sqrt{33}\n",
    "\\end{align}\n",
    "$$\n",
    "\n",
    "*Pythonic Solution*"
   ],
   "metadata": {
    "collapsed": false
   }
  },
  {
   "cell_type": "code",
   "execution_count": 54,
   "outputs": [
    {
     "name": "stdout",
     "output_type": "stream",
     "text": [
      "1.i.\n",
      "d(w, v) =  5.744562646538029\n",
      "d(w, v) =  5.744562646538029\n"
     ]
    }
   ],
   "source": [
    "import numpy as np\n",
    "\n",
    "w = np.array([2, 1, -3])\n",
    "v = np.array([3, 5, 1])\n",
    "\n",
    "print(\"1.i.\")\n",
    "print(\"d(w, v) = \", np.linalg.norm(w-v))\n",
    "print(\"d(w, v) = \", np.sqrt(33))"
   ],
   "metadata": {
    "collapsed": false
   }
  },
  {
   "cell_type": "markdown",
   "source": [
    "**j. Find $d(\\textbf{u}, \\textbf{w})$**\n",
    "\n",
    "*Manual Solution*\n",
    "$$\n",
    "\\begin{align}\n",
    "    d(\\textbf{u}, \\textbf{w}) &= ||\\textbf{u} - \\textbf{w}|| \\\\\n",
    "        &= \\sqrt{(1 - 2)^2 + ((-2) - 1)^2 + (4 - (-3))^2} \\\\\n",
    "        &= \\sqrt{(-1)^2 + (-3)^2 + 7^2} \\\\\n",
    "        &= \\sqrt{1 + 9 + 49} \\\\\n",
    "        d(\\textbf{u}, \\textbf{v}) &= \\sqrt{59}\n",
    "\\end{align}\n",
    "$$\n",
    "\n",
    "*Pythonic Solution*"
   ],
   "metadata": {
    "collapsed": false
   }
  },
  {
   "cell_type": "code",
   "execution_count": 55,
   "outputs": [
    {
     "name": "stdout",
     "output_type": "stream",
     "text": [
      "1.j.\n",
      "d(u, w) =  7.681145747868608\n",
      "d(u, w) =  7.681145747868608\n"
     ]
    }
   ],
   "source": [
    "import numpy as np\n",
    "\n",
    "u = np.array([1, -2, 4])\n",
    "w = np.array([2, 1, -3])\n",
    "\n",
    "print(\"1.j.\")\n",
    "print(\"d(u, w) = \", np.linalg.norm(u-w))\n",
    "print(\"d(u, w) = \", np.sqrt(59))"
   ],
   "metadata": {
    "collapsed": false
   }
  },
  {
   "cell_type": "markdown",
   "source": [
    "**k. Find $proj(\\textbf{u}, \\textbf{v})$**\n",
    "\n",
    "*Manual Solution*\n",
    "$$\n",
    "\\begin{align}\n",
    "    proj(\\textbf{u}, \\textbf{v}) &= \\frac{\\textbf{u} \\cdotp \\textbf{v}}{||\\textbf{v}||^2} \\textbf{v} \\\\\n",
    "        &= \\frac{(1)(3) + (-2)(5) + (4)(1)}{(\\sqrt{3^2 + 5^2 + 1^2})^2} (3, 5, 1) \\\\\n",
    "        &= \\frac{3 - 10 + 4}{(\\sqrt{9 + 25 + 1})^2} (3, 5, 1) \\\\\n",
    "        &= \\frac{-3}{(\\sqrt{35})^2} (3, 5, 1) \\\\\n",
    "        &= \\frac{-3}{35} (3, 5, 1) \\\\\n",
    "        proj(\\textbf{u}, \\textbf{v}) &= (\\frac{-9}{35}, \\frac{-3}{7}, \\frac{-3}{35})\n",
    "\n",
    "\\end{align}\n",
    "$$\n",
    "\n",
    "*Pythonic Solution*"
   ],
   "metadata": {
    "collapsed": false
   }
  },
  {
   "cell_type": "code",
   "execution_count": 56,
   "outputs": [
    {
     "name": "stdout",
     "output_type": "stream",
     "text": [
      "1.k.\n",
      "proj(u, v) =  [-0.25714286 -0.42857143 -0.08571429]\n",
      "proj(u, v) =  [-0.2571428571428571, -0.42857142857142855, -0.08571428571428572]\n"
     ]
    }
   ],
   "source": [
    "import numpy as np\n",
    "\n",
    "u = np.array([1, -2, 4])\n",
    "v = np.array([3, 5, 1])\n",
    "\n",
    "print(\"1.k.\")\n",
    "print(\"proj(u, v) = \", u.dot(v) * v / (np.linalg.norm(v) ** 2))\n",
    "print(\"proj(u, v) = \", [(-9)/35, (-3)/7, (-3)/35])"
   ],
   "metadata": {
    "collapsed": false
   }
  },
  {
   "cell_type": "markdown",
   "source": [
    "**l. Find $proj(\\textbf{w}, \\textbf{v})$**\n",
    "\n",
    "*Manual Solution*\n",
    "$$\n",
    "\\begin{align}\n",
    "    proj(\\textbf{w}, \\textbf{v}) &= \\frac{\\textbf{w} \\cdotp \\textbf{v}}{||\\textbf{v}||^2} \\textbf{v} \\\\\n",
    "        &= \\frac{(2)(3) + (1)(5) + (-3)(1)}{(\\sqrt{3^2 + 5^2 + 1^2})^2} (3, 5, 1) \\\\\n",
    "        &= \\frac{6 + 5 - 3}{(\\sqrt{9 + 25 + 1})^2} (3, 5, 1) \\\\\n",
    "        &= \\frac{8}{(\\sqrt{35})^2} (3, 5, 1) \\\\\n",
    "        &= \\frac{8}{35} (3, 5, 1) \\\\\n",
    "        proj(\\textbf{w}, \\textbf{v}) &= (\\frac{24}{35}, \\frac{8}{7}, \\frac{8}{35})\n",
    "\n",
    "\\end{align}\n",
    "$$\n",
    "\n",
    "*Pythonic Solution*"
   ],
   "metadata": {
    "collapsed": false
   }
  },
  {
   "cell_type": "code",
   "execution_count": 57,
   "outputs": [
    {
     "name": "stdout",
     "output_type": "stream",
     "text": [
      "1.l.\n",
      "proj(u, v) =  [0.68571429 1.14285714 0.22857143]\n",
      "proj(u, v) =  [0.6857142857142857, 1.1428571428571428, 0.22857142857142856]\n"
     ]
    }
   ],
   "source": [
    "import numpy as np\n",
    "\n",
    "w = np.array([2, 1, -3])\n",
    "v = np.array([3, 5, 1])\n",
    "\n",
    "print(\"1.l.\")\n",
    "print(\"proj(u, v) = \", w.dot(v) * v / (np.linalg.norm(v) ** 2))\n",
    "print(\"proj(u, v) = \", [24/35, 8/7, 8/35])"
   ],
   "metadata": {
    "collapsed": false
   }
  },
  {
   "cell_type": "markdown",
   "source": [
    "**m. Find $proj(\\textbf{u}, \\textbf{w})$**\n",
    "\n",
    "*Manual Solution*\n",
    "$$\n",
    "\\begin{align}\n",
    "    proj(\\textbf{u}, \\textbf{w}) &= \\frac{\\textbf{u} \\cdotp \\textbf{w}}{||\\textbf{w}||^2} \\textbf{w} \\\\\n",
    "        &= \\frac{(1)(2) + (-2)(1) + (4)(-3)}{(\\sqrt{2^2 + 1^2 + -3^2})^2} (2, 1, -3) \\\\\n",
    "        &= \\frac{2 - 2 - 12}{(\\sqrt{4 + 1 + 9})^2} (2, 1, -3) \\\\\n",
    "        &= \\frac{-12}{(\\sqrt{14})^2} (2, 1, -3) \\\\\n",
    "        &= \\frac{-6}{7} (2, 1, -3) \\\\\n",
    "        proj(\\textbf{u}, \\textbf{w}) &= (\\frac{-12}{7}, \\frac{-6}{7}, \\frac{18}{7})\n",
    "\n",
    "\\end{align}\n",
    "$$\n",
    "\n",
    "*Pythonic Solution*"
   ],
   "metadata": {
    "collapsed": false
   }
  },
  {
   "cell_type": "code",
   "execution_count": 58,
   "outputs": [
    {
     "name": "stdout",
     "output_type": "stream",
     "text": [
      "1.m.\n",
      "proj(u, w) =  [-1.71428571 -0.85714286  2.57142857]\n",
      "proj(u, w) =  [-1.7142857142857142, -0.8571428571428571, 2.5714285714285716]\n"
     ]
    }
   ],
   "source": [
    "import numpy as np\n",
    "\n",
    "u = np.array([1, -2, 4])\n",
    "w = np.array([2, 1, -3])\n",
    "\n",
    "print(\"1.m.\")\n",
    "print(\"proj(u, w) = \", u.dot(w) * w / (np.linalg.norm(w) ** 2))\n",
    "print(\"proj(u, w) = \", [-12/7, -6/7, 18/7])"
   ],
   "metadata": {
    "collapsed": false
   }
  },
  {
   "cell_type": "markdown",
   "source": [
    "**2. Repeat problem 1 with the following column vectors:**\n",
    "$$\n",
    "\\begin{align}\n",
    "    \\textbf{u} &=\n",
    "        \\begin{bmatrix}\n",
    "            1 \\\\\n",
    "            3 \\\\\n",
    "            -4 \\\\\n",
    "        \\end{bmatrix},\n",
    "    \\textbf{v} &=\n",
    "        \\begin{bmatrix}\n",
    "            2 \\\\\n",
    "            1 \\\\\n",
    "            5 \\\\\n",
    "        \\end{bmatrix},\n",
    "    \\textbf{w} &=\n",
    "        \\begin{bmatrix}\n",
    "            3 \\\\\n",
    "            -2 \\\\\n",
    "            6 \\\\\n",
    "        \\end{bmatrix}\n",
    "\\end{align}\n",
    "$$\n",
    "**a. $3\\textbf{u} - 2\\textbf{v}$**\n",
    "\n",
    "*Manual Solution*\n",
    "$$\n",
    "\\begin{align}\n",
    "    3\\textbf{u} - 2\\textbf{v} &=\n",
    "        \\begin{bmatrix}\n",
    "            (3)(1) - (2)(2) \\\\\n",
    "            (3)(3) - (2)(1) \\\\\n",
    "            (3)(-4) - (2)(5) \\\\\n",
    "        \\end{bmatrix} \\\\ &=\n",
    "        \\begin{bmatrix}\n",
    "            3 - 4 \\\\\n",
    "            9 - 2 \\\\\n",
    "            (-12) - 10 \\\\\n",
    "        \\end{bmatrix} \\\\ 3\\textbf{u} - 2\\textbf{v} &=\n",
    "        \\begin{bmatrix}\n",
    "            -1 \\\\\n",
    "            7 \\\\\n",
    "            -22 \\\\\n",
    "        \\end{bmatrix}\n",
    "\\end{align}\n",
    "$$\n",
    "\n",
    "*Pythonic Solution*"
   ],
   "metadata": {
    "collapsed": false
   }
  },
  {
   "cell_type": "code",
   "execution_count": 59,
   "outputs": [
    {
     "name": "stdout",
     "output_type": "stream",
     "text": [
      "2.a. 3u + 2v =  [ -1   7 -22]\n"
     ]
    }
   ],
   "source": [
    "import numpy as np\n",
    "\n",
    "u = np.array([1, 3, -4])\n",
    "v = np.array([2, 1, 5])\n",
    "\n",
    "print(\"2.a. 3u + 2v = \", 3*u - 2*v)"
   ],
   "metadata": {
    "collapsed": false
   }
  },
  {
   "cell_type": "markdown",
   "source": [
    "**b. $5\\textbf{u} + 3\\textbf{v} - 4\\textbf{w}$**\n",
    "\n",
    "*Manual Solution*\n",
    "$$\n",
    "\\begin{align}\n",
    "    5\\textbf{u} + 3\\textbf{v} - 4\\textbf{w} &=\n",
    "        \\begin{bmatrix}\n",
    "            (5)(1) + (3)(2) - (4)(3) \\\\\n",
    "            (5)(3) + (3)(1) - (4)(-2) \\\\\n",
    "            (5)(-4) + (3)(5) - (4)(6) \\\\\n",
    "        \\end{bmatrix} \\\\ &=\n",
    "        \\begin{bmatrix}\n",
    "            5 + 6 - 12 \\\\\n",
    "            15 + 3 - (-8) \\\\\n",
    "            (-20) + 15 - 24 \\\\\n",
    "        \\end{bmatrix} \\\\ 5\\textbf{u} + 3\\textbf{v} - 4\\textbf{w} &=\n",
    "        \\begin{bmatrix}\n",
    "            -1 \\\\\n",
    "            26 \\\\\n",
    "            -29 \\\\\n",
    "        \\end{bmatrix}\n",
    "\\end{align}\n",
    "$$\n",
    "\n",
    "*Pythonic Solution*"
   ],
   "metadata": {
    "collapsed": false
   }
  },
  {
   "cell_type": "code",
   "execution_count": 60,
   "outputs": [
    {
     "name": "stdout",
     "output_type": "stream",
     "text": [
      "2.b. 5u + 3v - 4w =  [ -1  26 -29]\n"
     ]
    }
   ],
   "source": [
    "import numpy as np\n",
    "\n",
    "u = np.array([1, 3, -4])\n",
    "v = np.array([2, 1, 5])\n",
    "w = np.array([3, -2, 6])\n",
    "\n",
    "print(\"2.b. 5u + 3v - 4w = \", 5*u + 3*v - 4*w)"
   ],
   "metadata": {
    "collapsed": false
   }
  },
  {
   "cell_type": "markdown",
   "source": [
    "**c. $\\textbf{u} \\cdotp \\textbf{v}$, $\\textbf{v} \\cdotp \\textbf{w}$, $\\textbf{u} \\cdotp \\textbf{w}$**\n",
    "\n",
    "*Manual Solution*\n",
    "$$\n",
    "\\begin{align}\n",
    "    \\textbf{u} \\cdotp \\textbf{v} &= (1)(2) + (3)(1) + (-4)(5) \\\\\n",
    "        &= (2) + (3) + (-20) \\\\\n",
    "    \\textbf{u} \\cdotp \\textbf{v} &= -15\n",
    "\\end{align}\n",
    "$$\n",
    "\n",
    "$$\n",
    "\\begin{align}\n",
    "    \\textbf{v} \\cdotp \\textbf{w} &= (2)(3) + (1)(-2) + (5)(6) \\\\\n",
    "        &= (6) + (-2) + (30) \\\\\n",
    "    \\textbf{v} \\cdotp \\textbf{w} &= 34\n",
    "\\end{align}\n",
    "$$\n",
    "\n",
    "$$\n",
    "\\begin{align}\n",
    "    \\textbf{u} \\cdotp \\textbf{w} &= (1)(3) + (3)(-2) + (-4)(6) \\\\\n",
    "        &= (3) + (-6) + (-24) \\\\\n",
    "    \\textbf{u} \\cdotp \\textbf{w} &= -27\n",
    "\\end{align}\n",
    "$$\n",
    "\n",
    "*Pythonic Solution*"
   ],
   "metadata": {
    "collapsed": false
   }
  },
  {
   "cell_type": "code",
   "execution_count": 61,
   "outputs": [
    {
     "name": "stdout",
     "output_type": "stream",
     "text": [
      "2.c.\n",
      "u.v =  -15\n",
      "v.w =  34\n",
      "u.w =  -27\n"
     ]
    }
   ],
   "source": [
    "import numpy as np\n",
    "\n",
    "u = np.array([1, 3, -4])\n",
    "v = np.array([2, 1, 5])\n",
    "w = np.array([3, -2, 6])\n",
    "\n",
    "print(\"2.c.\")\n",
    "print(\"u.v = \", u.dot(v))\n",
    "print(\"v.w = \", v.dot(w))\n",
    "print(\"u.w = \", u.dot(w))"
   ],
   "metadata": {
    "collapsed": false
   }
  },
  {
   "cell_type": "markdown",
   "source": [
    "**d. $||\\textbf{u}||$, $||\\textbf{v}||$, $||\\textbf{w}||$**\n",
    "\n",
    "*Manual Solution*\n",
    "$$\n",
    "\\begin{align}\n",
    "    ||\\textbf{u}|| &= \\sqrt{1^2 + 3^2 + (-4)^2} \\\\\n",
    "        &= \\sqrt{1 + 9 + 16} \\\\\n",
    "    ||\\textbf{u}|| &= \\sqrt{26}\n",
    "\\end{align}\n",
    "$$\n",
    "\n",
    "$$\n",
    "\\begin{align}\n",
    "    ||\\textbf{v}|| &= \\sqrt{2^2 + 1^2 + 5^2} \\\\\n",
    "        &= \\sqrt{4 + 1 + 25} \\\\\n",
    "        ||\\textbf{v}|| &= \\sqrt{30}\n",
    "\\end{align}\n",
    "$$\n",
    "\n",
    "$$\n",
    "\\begin{align}\n",
    "    ||\\textbf{w}|| &= \\sqrt{3^2 + (-2)^2 + 6^2} \\\\\n",
    "        &= \\sqrt{9 + 4 + 36} \\\\\n",
    "        ||\\textbf{w}|| &= \\sqrt{49}\n",
    "\\end{align}\n",
    "$$\n",
    "\n",
    "*Pythonic Solution*"
   ],
   "metadata": {
    "collapsed": false
   }
  },
  {
   "cell_type": "code",
   "execution_count": 62,
   "outputs": [
    {
     "name": "stdout",
     "output_type": "stream",
     "text": [
      "2.d.\n",
      "||u|| =  5.0990195135927845\n",
      "||u|| =  5.0990195135927845\n",
      "\n",
      "||v|| =  5.477225575051661\n",
      "||v|| =  5.477225575051661\n",
      "\n",
      "||w|| =  7.0\n",
      "||w|| =  7.0\n"
     ]
    }
   ],
   "source": [
    "import numpy as np\n",
    "\n",
    "u = np.array([1, 3, -4])\n",
    "v = np.array([2, 1, 5])\n",
    "w = np.array([3, -2, 6])\n",
    "\n",
    "print(\"2.d.\")\n",
    "print(\"||u|| = \", np.sqrt(u.dot(u)))\n",
    "print(\"||u|| = \", np.sqrt(26))\n",
    "print()\n",
    "print(\"||v|| = \", np.sqrt(v.dot(v)))\n",
    "print(\"||v|| = \", np.sqrt(30))\n",
    "print()\n",
    "print(\"||w|| = \", np.sqrt(w.dot(w)))\n",
    "print(\"||w|| = \", np.sqrt(49))"
   ],
   "metadata": {
    "collapsed": false
   }
  },
  {
   "cell_type": "markdown",
   "source": [
    "**e. if $\\theta$ is the angle between $\\textbf{u}$ and $\\textbf{v}$, find $\\cos{\\theta}$.**\n",
    "\n",
    "*Manual Solution*\n",
    "$$\n",
    "\\begin{align}\n",
    "    \\cos{\\theta} &= \\frac{\\textbf{u} \\cdotp \\textbf{v}}{||\\textbf{u}|| \\ ||\\textbf{v}||} \\\\\n",
    "        &= \\frac{(1)(2) + (3)(1) + (-4)(5)}{\\sqrt{1^2 + 3^2 + (-4)^2} \\sqrt{2^2 + 1^2 + 5^2}} \\\\\n",
    "        &= \\frac{2 + 3 + (-20)}{\\sqrt{1 + 9 + 16} \\sqrt{4 + 1 + 25}} \\\\\n",
    "        \\cos{\\theta} &= \\frac{-15}{\\sqrt{26} \\sqrt{30}}\n",
    "\\end{align}\n",
    "$$\n",
    "\n",
    "*Pythonic Solution*"
   ],
   "metadata": {
    "collapsed": false
   }
  },
  {
   "cell_type": "code",
   "execution_count": 63,
   "outputs": [
    {
     "name": "stdout",
     "output_type": "stream",
     "text": [
      "2.e.\n",
      "angle =  -0.5370861555295747\n",
      "angle =  -0.5370861555295747\n"
     ]
    }
   ],
   "source": [
    "import numpy as np\n",
    "\n",
    "u = np.array([1, 3, -4])\n",
    "v = np.array([2, 1, 5])\n",
    "\n",
    "print(\"2.e.\")\n",
    "print(\"angle = \", u.dot(v) / (np.linalg.norm(u)*np.linalg.norm(v)))\n",
    "print(\"angle = \", (-15) / (np.sqrt(26)*np.sqrt(30)))"
   ],
   "metadata": {
    "collapsed": false
   }
  },
  {
   "cell_type": "markdown",
   "source": [
    "**f. if $\\alpha$ is the angle between $\\textbf{v}$ and $\\textbf{w}$, find $\\cos{\\alpha}$.**\n",
    "\n",
    "*Manual Selection*\n",
    "$$\n",
    "\\begin{align}\n",
    "    \\cos{\\alpha} &= \\frac{\\textbf{v} \\cdotp \\textbf{w}}{||\\textbf{v}|| \\ ||\\textbf{w}||} \\\\\n",
    "        &= \\frac{(2)(3) + (1)(-2) + (5)(6)}{\\sqrt{2^2 + 1^2 + 5^2} \\sqrt{3^2 + (-2)^2 + 6^2}} \\\\\n",
    "        &= \\frac{6 + (-2) + 30}{\\sqrt{4 + 1 + 25} \\sqrt{9 + 4 + 36}} \\\\\n",
    "        \\cos{\\alpha} &= \\frac{34}{\\sqrt{30} \\sqrt{49}}\n",
    "\\end{align}\n",
    "$$\n",
    "\n",
    "*Pythonic Solution*"
   ],
   "metadata": {
    "collapsed": false
   }
  },
  {
   "cell_type": "code",
   "execution_count": 64,
   "outputs": [
    {
     "name": "stdout",
     "output_type": "stream",
     "text": [
      "2.f.\n",
      "angle =  0.8867889026274118\n",
      "angle =  0.8867889026274118\n"
     ]
    }
   ],
   "source": [
    "import numpy as np\n",
    "\n",
    "v = np.array([2, 1, 5])\n",
    "w = np.array([3, -2, 6])\n",
    "\n",
    "print(\"2.f.\")\n",
    "print(\"angle = \", v.dot(w) / (np.linalg.norm(v)*np.linalg.norm(w)))\n",
    "print(\"angle = \", 34 / (np.sqrt(30)*np.sqrt(49)))"
   ],
   "metadata": {
    "collapsed": false
   }
  },
  {
   "cell_type": "markdown",
   "source": [
    "**g. if $\\beta$ is the angle between $\\textbf{u}$ and $\\textbf{w}$, find $\\cos{\\beta}$.**\n",
    "\n",
    "*Manual Selection*\n",
    "$$\n",
    "\\begin{align}\n",
    "    \\cos{\\beta} &= \\frac{\\textbf{u} \\cdotp \\textbf{w}}{||\\textbf{u}|| \\ ||\\textbf{w}||} \\\\\n",
    "        &= \\frac{(1)(3) + (3)(-2) + (-4)(6)}{\\sqrt{1^2 + 3^2 + (-4)^2} \\sqrt{3^2 + (-2)^2 + 6^2}} \\\\\n",
    "        &= \\frac{3 + (-6) + (-24)}{\\sqrt{1 + 9 + 16} \\sqrt{9 + 4 + 36}} \\\\\n",
    "        \\cos{\\beta} &= \\frac{(-27)}{\\sqrt{26} \\sqrt{49}}\n",
    "\\end{align}\n",
    "$$\n",
    "\n",
    "*Pythonic Solution*"
   ],
   "metadata": {
    "collapsed": false
   }
  },
  {
   "cell_type": "code",
   "execution_count": 65,
   "outputs": [
    {
     "name": "stdout",
     "output_type": "stream",
     "text": [
      "2.g.\n",
      "angle =  -0.7564479498187099\n",
      "angle =  -0.7564479498187099\n"
     ]
    }
   ],
   "source": [
    "import numpy as np\n",
    "\n",
    "u = np.array([1, 3, -4])\n",
    "w = np.array([3, -2, 6])\n",
    "\n",
    "print(\"2.g.\")\n",
    "print(\"angle = \", u.dot(w) / (np.linalg.norm(u)*np.linalg.norm(w)))\n",
    "print(\"angle = \", (-27) / (np.sqrt(26)*np.sqrt(49)))"
   ],
   "metadata": {
    "collapsed": false
   }
  },
  {
   "cell_type": "markdown",
   "source": [
    "**h. Find $d(\\textbf{u}, \\textbf{v})$**\n",
    "\n",
    "*Manual Solution*\n",
    "$$\n",
    "\\begin{align}\n",
    "    d(\\textbf{u}, \\textbf{v}) &= ||\\textbf{u} - \\textbf{v}|| \\\\\n",
    "        &= \\sqrt{(1 - 2)^2 + (3 - 1)^2 + ((-4) - 5)^2} \\\\\n",
    "        &= \\sqrt{(-1)^2 + 2^2 + (-9)^2} \\\\\n",
    "        &= \\sqrt{1 + 4 + 81} \\\\\n",
    "        d(\\textbf{u}, \\textbf{v}) &= \\sqrt{86}\n",
    "\\end{align}\n",
    "$$\n",
    "\n",
    "*Pythonic Solution*"
   ],
   "metadata": {
    "collapsed": false
   }
  },
  {
   "cell_type": "code",
   "execution_count": 66,
   "outputs": [
    {
     "name": "stdout",
     "output_type": "stream",
     "text": [
      "2.h.\n",
      "d(u, v) =  9.273618495495704\n",
      "d(u, v) =  9.273618495495704\n"
     ]
    }
   ],
   "source": [
    "import numpy as np\n",
    "\n",
    "u = np.array([1, 3, -4])\n",
    "v = np.array([2, 1, 5])\n",
    "\n",
    "print(\"2.h.\")\n",
    "print(\"d(u, v) = \", np.linalg.norm(u-v))\n",
    "print(\"d(u, v) = \", np.sqrt(86))"
   ],
   "metadata": {
    "collapsed": false
   }
  },
  {
   "cell_type": "markdown",
   "source": [
    "**i. Find $d(\\textbf{w}, \\textbf{v})$**\n",
    "\n",
    "*Manual Solution*\n",
    "$$\n",
    "\\begin{align}\n",
    "    d(\\textbf{w}, \\textbf{v}) &= ||\\textbf{w} - \\textbf{v}|| \\\\\n",
    "        &= \\sqrt{(3 - 2)^2 + ((-2) - 1)^2 + (6 - 5)^2} \\\\\n",
    "        &= \\sqrt{1^2 + (-3)^2 + 1^2} \\\\\n",
    "        &= \\sqrt{1 + 9 + 1} \\\\\n",
    "        d(\\textbf{w}, \\textbf{v}) &= \\sqrt{11}\n",
    "\\end{align}\n",
    "$$\n",
    "\n",
    "*Pythonic Solution*"
   ],
   "metadata": {
    "collapsed": false
   }
  },
  {
   "cell_type": "code",
   "execution_count": 67,
   "outputs": [
    {
     "name": "stdout",
     "output_type": "stream",
     "text": [
      "2.i.\n",
      "d(w, v) =  3.3166247903554\n",
      "d(w, v) =  3.3166247903554\n"
     ]
    }
   ],
   "source": [
    "import numpy as np\n",
    "\n",
    "w = np.array([3, -2, 6])\n",
    "v = np.array([2, 1, 5])\n",
    "\n",
    "print(\"2.i.\")\n",
    "print(\"d(w, v) = \", np.linalg.norm(w-v))\n",
    "print(\"d(w, v) = \", np.sqrt(11))"
   ],
   "metadata": {
    "collapsed": false
   }
  },
  {
   "cell_type": "markdown",
   "source": [
    "**j. Find $d(\\textbf{u}, \\textbf{w})$**\n",
    "\n",
    "*Manual Solution*\n",
    "$$\n",
    "\\begin{align}\n",
    "    d(\\textbf{u}, \\textbf{w}) &= ||\\textbf{u} - \\textbf{w}|| \\\\\n",
    "        &= \\sqrt{(1 - 3)^2 + (3 - (-2))^2 + ((-4) - 6)^2} \\\\\n",
    "        &= \\sqrt{(-2)^2 + 5^2 + (-10)^2} \\\\\n",
    "        &= \\sqrt{4 + 25 + 100} \\\\\n",
    "        d(\\textbf{u}, \\textbf{v}) &= \\sqrt{129}\n",
    "\\end{align}\n",
    "$$\n",
    "\n",
    "*Pythonic Solution*"
   ],
   "metadata": {
    "collapsed": false
   }
  },
  {
   "cell_type": "code",
   "execution_count": 68,
   "outputs": [
    {
     "name": "stdout",
     "output_type": "stream",
     "text": [
      "2.j.\n",
      "d(u, w) =  11.357816691600547\n",
      "d(u, w) =  11.357816691600547\n"
     ]
    }
   ],
   "source": [
    "import numpy as np\n",
    "\n",
    "u = np.array([1, 3, -4])\n",
    "w = np.array([3, -2, 6])\n",
    "\n",
    "print(\"2.j.\")\n",
    "print(\"d(u, w) = \", np.linalg.norm(u-w))\n",
    "print(\"d(u, w) = \", np.sqrt(129))"
   ],
   "metadata": {
    "collapsed": false
   }
  },
  {
   "cell_type": "markdown",
   "source": [
    "**k. Find $proj(\\textbf{u}, \\textbf{v})$**\n",
    "\n",
    "*Manual Solution*\n",
    "$$\n",
    "\\begin{align}\n",
    "    proj(\\textbf{u}, \\textbf{v}) &= \\frac{\\textbf{u} \\cdotp \\textbf{v}}{||\\textbf{v}||^2} \\textbf{v} \\\\\n",
    "        &= \\frac{(1)(2) + (3)(1) + (-4)(5)}{(\\sqrt{2^2 + 1^2 + 5^2})^2} (2, 1, 5) \\\\\n",
    "        &= \\frac{2 + 3 + (-20)}{(\\sqrt{4 + 1 + 25})^2} (2, 1, 5) \\\\\n",
    "        &= \\frac{-15}{(\\sqrt{30})^2} (2, 1, 5) \\\\\n",
    "        &= \\frac{-15}{30} (2, 1, 5) \\\\\n",
    "        proj(\\textbf{u}, \\textbf{v}) &= (-1, \\frac{-1}{2}, \\frac{-5}{2})\n",
    "\n",
    "\\end{align}\n",
    "$$\n",
    "\n",
    "*Pythonic Solution*"
   ],
   "metadata": {
    "collapsed": false
   }
  },
  {
   "cell_type": "code",
   "execution_count": 69,
   "outputs": [
    {
     "name": "stdout",
     "output_type": "stream",
     "text": [
      "2.k.\n",
      "proj(u, v) =  [-1.  -0.5 -2.5]\n",
      "proj(u, v) =  [-1, -0.5, -2.5]\n"
     ]
    }
   ],
   "source": [
    "import numpy as np\n",
    "\n",
    "u = np.array([1, 3, -4])\n",
    "v = np.array([2, 1, 5])\n",
    "\n",
    "print(\"2.k.\")\n",
    "print(\"proj(u, v) = \", u.dot(v) * v / (np.linalg.norm(v) ** 2))\n",
    "print(\"proj(u, v) = \", [(-1), (-1)/2, (-5)/2])"
   ],
   "metadata": {
    "collapsed": false
   }
  },
  {
   "cell_type": "markdown",
   "source": [
    "**l. Find $proj(\\textbf{w}, \\textbf{v})$**\n",
    "\n",
    "*Manual Solution*\n",
    "$$\n",
    "\\begin{align}\n",
    "    proj(\\textbf{w}, \\textbf{v}) &= \\frac{\\textbf{w} \\cdotp \\textbf{v}}{||\\textbf{v}||^2} \\textbf{v} \\\\\n",
    "        &= \\frac{(3)(2) + (-2)(1) + (6)(5)}{(\\sqrt{2^2 + 1^2 + 5^2})^2} (2, 1, 5)) \\\\\n",
    "        &= \\frac{6 + (-2) + 30}{(\\sqrt{4 + 1 + 25})^2} (2, 1, 5) \\\\\n",
    "        &= \\frac{34}{(\\sqrt{30})^2} (2, 1, 5) \\\\\n",
    "        &= \\frac{34}{30} (2, 1, 5) \\\\\n",
    "        proj(\\textbf{w}, \\textbf{v}) &= (\\frac{68}{30}, \\frac{34}{30}, \\frac{170}{30})\n",
    "\n",
    "\\end{align}\n",
    "$$\n",
    "\n",
    "*Pythonic Solution*"
   ],
   "metadata": {
    "collapsed": false
   }
  },
  {
   "cell_type": "code",
   "execution_count": 70,
   "outputs": [
    {
     "name": "stdout",
     "output_type": "stream",
     "text": [
      "2.l.\n",
      "proj(u, v) =  [2.26666667 1.13333333 5.66666667]\n",
      "proj(u, v) =  [2.2666666666666666, 1.1333333333333333, 5.666666666666667]\n"
     ]
    }
   ],
   "source": [
    "import numpy as np\n",
    "\n",
    "w = np.array([3, -2, 6])\n",
    "v = np.array([2, 1, 5])\n",
    "\n",
    "print(\"2.l.\")\n",
    "print(\"proj(u, v) = \", w.dot(v) * v / (np.linalg.norm(v) ** 2))\n",
    "print(\"proj(u, v) = \", [68/30, 34/30, 170/30])"
   ],
   "metadata": {
    "collapsed": false
   }
  },
  {
   "cell_type": "markdown",
   "source": [
    "**m. Find $proj(\\textbf{u}, \\textbf{w})$**\n",
    "\n",
    "*Manual Solution*\n",
    "$$\n",
    "\\begin{align}\n",
    "    proj(\\textbf{u}, \\textbf{w}) &= \\frac{\\textbf{u} \\cdotp \\textbf{w}}{||\\textbf{w}||^2} \\textbf{w} \\\\\n",
    "        &= \\frac{(1)(3) + (3)(-2) + (-4)(6)}{(\\sqrt{3^2 + (-2)^2 + 6^2})^2} (3, -2, 6) \\\\\n",
    "        &= \\frac{3 - 6 - 24}{(\\sqrt{9 + 4 + 36})^2} (3, -2, 6) \\\\\n",
    "        &= \\frac{-27}{(\\sqrt{49})^2} (3, -2, 6) \\\\\n",
    "        &= \\frac{-27}{49} (3, -2, 6) \\\\\n",
    "        proj(\\textbf{u}, \\textbf{w}) &= (\\frac{-81}{49}, \\frac{54}{49}, \\frac{-162}{49})\n",
    "\n",
    "\\end{align}\n",
    "$$\n",
    "\n",
    "*Pythonic Solution*"
   ],
   "metadata": {
    "collapsed": false
   }
  },
  {
   "cell_type": "code",
   "execution_count": 71,
   "outputs": [
    {
     "name": "stdout",
     "output_type": "stream",
     "text": [
      ".m.\n",
      "proj(u, w) =  [-1.65306122  1.10204082 -3.30612245]\n",
      "proj(u, w) =  [-1.653061224489796, 1.1020408163265305, -3.306122448979592]\n"
     ]
    }
   ],
   "source": [
    "import numpy as np\n",
    "\n",
    "u = np.array([1, 3, -4])\n",
    "w = np.array([3, -2, 6])\n",
    "\n",
    "print(\".m.\")\n",
    "print(\"proj(u, w) = \", u.dot(w) * w / (np.linalg.norm(w) ** 2))\n",
    "print(\"proj(u, w) = \", [(-81)/49, 54/49, ((-162)/49)])"
   ],
   "metadata": {
    "collapsed": false
   }
  },
  {
   "cell_type": "markdown",
   "source": [
    "**4. Normalize each vector:**\n",
    "**a. $\\textbf{u}$ = (5, -7).**\n",
    "\n",
    "*Manual Solution*\n",
    "$$\n",
    "\\begin{align}\n",
    "    ||\\textbf{u}|| &= \\sqrt{5^2 + (-7)^2} \\\\\n",
    "        &= \\sqrt{25 + 49} \\\\\n",
    "        ||\\textbf{u}|| &= \\sqrt{74}\n",
    "\\end{align}\n",
    "$$\n",
    "\n",
    "*Pythonic Solution*"
   ],
   "metadata": {
    "collapsed": false
   }
  },
  {
   "cell_type": "code",
   "execution_count": 74,
   "outputs": [
    {
     "name": "stdout",
     "output_type": "stream",
     "text": [
      "4.a.\n",
      "||u|| =  8.602325267042627\n",
      "||u|| = 8.602325267042627\n"
     ]
    }
   ],
   "source": [
    "import numpy as np\n",
    "\n",
    "u = np.array([5, -7])\n",
    "\n",
    "print(\"4.a.\")\n",
    "print(\"||u|| = \", np.sqrt(u.dot(u)))\n",
    "print(\"||u|| =\", np.sqrt(74))"
   ],
   "metadata": {
    "collapsed": false
   }
  },
  {
   "cell_type": "markdown",
   "source": [
    "**b. $\\textbf{v}$ = (1, 2, -2, 4).**\n",
    "\n",
    "*Manual Solution*\n",
    "$$\n",
    "\\begin{align}\n",
    "    ||\\textbf{v}|| &= \\sqrt{1^2 + 2^2 + (-2)^2 + 4^2} \\\\\n",
    "        &= \\sqrt{1 + 4 + 4 + 16} \\\\\n",
    "        ||\\textbf{v}|| &= \\sqrt{25}\n",
    "\\end{align}\n",
    "$$"
   ],
   "metadata": {
    "collapsed": false
   }
  },
  {
   "cell_type": "code",
   "execution_count": 75,
   "outputs": [
    {
     "name": "stdout",
     "output_type": "stream",
     "text": [
      "4.b.\n",
      "||v|| =  5.0\n",
      "||v|| = 5.0\n"
     ]
    }
   ],
   "source": [
    "import numpy as np\n",
    "\n",
    "v = np.array([1, 2, -2, 4])\n",
    "\n",
    "print(\"4.b.\")\n",
    "print(\"||v|| = \", np.sqrt(v.dot(v)))\n",
    "print(\"||v|| =\", np.sqrt(25))"
   ],
   "metadata": {
    "collapsed": false
   }
  }
 ],
 "metadata": {
  "kernelspec": {
   "display_name": "Python 3",
   "language": "python",
   "name": "python3"
  },
  "language_info": {
   "codemirror_mode": {
    "name": "ipython",
    "version": 2
   },
   "file_extension": ".py",
   "mimetype": "text/x-python",
   "name": "python",
   "nbconvert_exporter": "python",
   "pygments_lexer": "ipython2",
   "version": "2.7.6"
  }
 },
 "nbformat": 4,
 "nbformat_minor": 0
}
