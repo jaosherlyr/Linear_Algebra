{
 "cells": [
  {
   "cell_type": "markdown",
   "source": [
    "# Assignment\n",
    "1. Let $\\textbf{u} = (1, -2, 4)$ and $\\textbf{v} = (3,5,1)$ $\\textbf{w} = (2,1,-3)$ find:\n",
    "a. $3\\textbf{u}-2\\textbf{v}$\n",
    "b. $5\\textbf{u}+3\\textbf{v}-4\\textbf{w}$\n",
    "c. $\\textbf{u} \\cdotp \\textbf{v}$,$\\textbf{v} \\cdotp \\textbf{w}$, $\\textbf{u} \\cdotp \\textbf{w}$\n",
    "d. ||$\\textbf{u}||, ||$\\textbf{v}||, ||$\\textbf{w}$||\n",
    "e. If $\\theta$ is the angle between $\\textbf{u}$  and   $\\textbf{v}$, find $\\cos{\\theta}$.\n",
    "f. If $\\alpha$ is the angle between $\\textbf{v}$  and   $\\textbf{w}$, find $\\cos{\\alpha}$.\n",
    "g. If $\\beta$ is the angle between $\\textbf{u}$  and   $\\textbf{w}$, find $\\cos{\\beta}$.\n",
    "h. Find $d(\\textbf{u},\\textbf{v})$.\n",
    "i. Find $d(\\textbf{w},\\textbf{v})$.\n",
    "j. Find $d(\\textbf{u},\\textbf{w})$.\n",
    "k. Find $proj(\\textbf{u},\\textbf{v})$.\n",
    "l. Find $proj(\\textbf{w},\\textbf{v})$.\n",
    "m. Find $proj(\\textbf{u},\\textbf{w})$.\n",
    "\n",
    "2. Repeat problem 1 with the following column vectors:\n",
    "\\begin{align}\n",
    "    \\textbf{u} &= \\begin{bmatrix}\n",
    "        1 \\\\\n",
    "        3 \\\\\n",
    "        -4\n",
    "    \\end{bmatrix}, \\textbf{v} = \\begin{bmatrix}\n",
    "        2 \\\\\n",
    "        1 \\\\\n",
    "        5\n",
    "    \\end{bmatrix}, \\textbf{w} = \\begin{bmatrix}\n",
    "        3 \\\\\n",
    "        -2 \\\\\n",
    "        6\n",
    "    \\end{bmatrix}\n",
    "\\end{align}\n",
    "\n",
    "3. Let $\\textbf{u} = (2,-5,4,6,-3)$, $\\textbf{v} = (5,-2,1,-7,-4)$, and $\\textbf{w} = (2,1,-3)$ find:\n",
    "a. $4\\textbf{u}-3\\textbf{v}$\n",
    "b. $5\\textbf{u}+2\\textbf{v}-2\\textbf{w}$\n",
    "c. $\\textbf{u} \\cdotp \\textbf{v}$,$\\textbf{v} \\cdotp \\textbf{w}$, $\\textbf{u} \\cdotp \\textbf{w}$\n",
    "d. ||$\\textbf{u}$||, ||$\\textbf{v}$||, ||$\\textbf{w}$||\n",
    "e. If $\\theta$ is the angle between $\\textbf{u}$  and   $\\textbf{v}$, find $\\cos{\\theta}$.\n",
    "f. If $\\alpha$ is the angle between $\\textbf{v}$  and   $\\textbf{w}$, find $\\cos{\\alpha}$.\n",
    "g. If $\\beta$ is the angle between $\\textbf{u}$  and   $\\textbf{w}$, find $\\cos{\\beta}$.\n",
    "h. Find $d(\\textbf{u},\\textbf{v})$.\n",
    "i. Find $d(\\textbf{w},\\textbf{v})$.\n",
    "j. Find $d(\\textbf{u},\\textbf{w})$.\n",
    "k. Find $proj(\\textbf{u},\\textbf{v})$.\n",
    "l. Find $proj(\\textbf{w},\\textbf{v})$.\n",
    "m. Find $proj(\\textbf{u},\\textbf{w})$.\n",
    "\n",
    "4. Normalize each vector:\n",
    "a. $\\textbf{u}$ = (5,-7).\n",
    "b. $\\textbf{v}$ = (1,2,-2,4).\n",
    "c. $\\textbf{w} = (\\frac{1}{2},\\frac{-1}{3},\\frac{3}{4})$.\n",
    "\n",
    "5. Let $\\textbf{u} = (1,2,-2)$,$\\textbf{v} = (3,-12,4)$ and a scalar $k = -3$:\n",
    "Find $||u||, ||v||, ||u+v||, ||ku||$.\n",
    "\n",
    "6. Find k so that $\\textbf{u}  \\ and \\  \\textbf{v}$ are orthogonal.\n",
    "a. $\\textbf{u} = (3, k, -2), \\textbf{v} = (6, -4, -3)$.\n",
    "b. $\\textbf{u} = (5,k,-4,2), \\textbf{v} = (1,-3,2,2k)$.\n",
    "c. $\\textbf{u} = (1,7,k+2,-2), \\textbf{v} = (3, k, -3,k)$."
   ],
   "metadata": {
    "collapsed": false
   }
  },
  {
   "cell_type": "markdown",
   "source": [
    "# Answers"
   ],
   "metadata": {
    "collapsed": false
   }
  },
  {
   "cell_type": "markdown",
   "source": [
    "1. a. $3\\textbf{u}-2\\textbf{v}$\n",
    "$3\\textbf{u}-2\\textbf{v}=3(1, -2, 4) - 2(3, 5, 1)$<br>\n",
    "$3\\textbf{u}-2\\textbf{v}=(3 * 1, 3 * -2, 3 * 4) - (2 * 3, 2 * 5, 2 * 1)$<br>\n",
    "$3\\textbf{u}-2\\textbf{v}=(3, -6, 12) - (6, 10, 2)$<br>\n",
    "$3\\textbf{u}-2\\textbf{v}=(-6, -16, 10)$"
   ],
   "metadata": {
    "collapsed": false
   }
  }
 ],
 "metadata": {
  "kernelspec": {
   "display_name": "Python 3",
   "language": "python",
   "name": "python3"
  },
  "language_info": {
   "codemirror_mode": {
    "name": "ipython",
    "version": 2
   },
   "file_extension": ".py",
   "mimetype": "text/x-python",
   "name": "python",
   "nbconvert_exporter": "python",
   "pygments_lexer": "ipython2",
   "version": "2.7.6"
  }
 },
 "nbformat": 4,
 "nbformat_minor": 0
}
