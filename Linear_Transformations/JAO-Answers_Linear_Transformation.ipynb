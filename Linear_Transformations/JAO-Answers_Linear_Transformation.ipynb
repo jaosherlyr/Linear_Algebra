{
 "cells": [
  {
   "cell_type": "markdown",
   "source": [
    "# Linear Transformation Homework Answers\n",
    "**=======================**\n",
    "#### Name: Sherly R. Jao\n",
    "#### BSCS - 3 | CS 3101N"
   ],
   "metadata": {
    "collapsed": false
   }
  },
  {
   "cell_type": "markdown",
   "source": [
    "#### Code Challenge\n",
    "1. Develop a python function from scratch that will find the determinants of any $n \\times n$ matrix."
   ],
   "metadata": {
    "collapsed": false
   }
  },
  {
   "cell_type": "code",
   "execution_count": 49,
   "outputs": [],
   "source": [
    "def determinant(matrix):\n",
    "    if len(matrix) == 1 and len(matrix[0]) == 1:\n",
    "        return matrix[0][0]\n",
    "\n",
    "    if len(matrix) == 2 and len(matrix[0]) == 2:\n",
    "        return matrix[0][0] * matrix[1][1] - matrix[0][1] * matrix[1][0]\n",
    "\n",
    "    det = 0\n",
    "    for j in range(len(matrix[0])):\n",
    "        det += ((-1) ** j) * matrix[0][j] * determinant(minor(matrix, 0, j))\n",
    "\n",
    "    return det\n",
    "\n",
    "def minor(matrix, row, col):\n",
    "    return [row[:col] + row[col + 1:] for row in (matrix[:row] + matrix[row + 1:])]"
   ],
   "metadata": {
    "collapsed": false
   }
  },
  {
   "cell_type": "markdown",
   "source": [
    "#### Code Challenge\n",
    "2. Develop a python function from scratch that will find both the eigenvectors and eigenvalues of any $n \\times n$ matrix."
   ],
   "metadata": {
    "collapsed": false
   }
  },
  {
   "cell_type": "code",
   "execution_count": 50,
   "outputs": [],
   "source": [
    "def get_eigen(A, max_iterations = 50000):\n",
    "    assert len(A) == 0 or all(type(row) == list for row in A) and len(A) == len(A[0]), \"A should be a square matrix.\"\n",
    "\n",
    "    n = len(A)\n",
    "    if n == 0: return [], []\n",
    "    if n == 1: return [A[0][0]], [[1.]]\n",
    "\n",
    "    eigenvectors = []\n",
    "    eigenvalues = []\n",
    "\n",
    "    for _ in range(n):\n",
    "        eigvec = [random.random() for _ in range(n)]\n",
    "        norm_eigvec = sum(a ** 2 for a in eigvec) ** 0.5\n",
    "        eigvec = [a / norm_eigvec for a in eigvec]\n",
    "\n",
    "        # Power Method\n",
    "        for _ in range(max_iterations):\n",
    "            tf_eigvec = [sum(a * b for a, b in zip(row, eigvec)) for row in A]\n",
    "\n",
    "            norm_tf = sum(a ** 2 for a in tf_eigvec) ** 0.5\n",
    "            eigvec = [a / norm_tf for a in tf_eigvec]\n",
    "\n",
    "        eigval = sum(a * b for a, b in zip(tf_eigvec, eigvec))\n",
    "        eigenvalues.append(eigval)\n",
    "        eigenvectors.append(eigvec)\n",
    "\n",
    "        eigenval_outer_product = [[a * b for b in eigvec] for a in tf_eigvec]\n",
    "        A = [[A[i][j] - eigenval_outer_product[i][j] for j in range(n)] for i in range(n)]\n",
    "\n",
    "    return eigenvalues, [list(row) for row in zip(*eigenvectors)]"
   ],
   "metadata": {
    "collapsed": false
   }
  },
  {
   "cell_type": "markdown",
   "source": [
    "#### Code Challenge\n",
    "3. Test your functions from a randomly generated $n \\times n$ matrix."
   ],
   "metadata": {
    "collapsed": false
   }
  },
  {
   "cell_type": "code",
   "execution_count": 53,
   "outputs": [
    {
     "name": "stdout",
     "output_type": "stream",
     "text": [
      "> Random Matrix:\n",
      "[9, 4]\n",
      "[-8, 6]\n",
      "\n",
      "> Determinant: [86]\n",
      "\n",
      "> Eigenvalues: [9.919575034496743, 6.311966847687275]\n",
      "\n",
      "> Eigenvectors:\n",
      "[-0.9639490588326551, 0.1911577650371619]\n",
      "[0.2660868504372928, 0.9815593251892608]\n"
     ]
    }
   ],
   "source": [
    "#  Generate random matrix for testing\n",
    "import random\n",
    "\n",
    "def generate_random_matrix():\n",
    "    #  limit to 6, so it won't be too big of a calculation\n",
    "    len_matrix = random.randint(1, 6)\n",
    "\n",
    "    matrix = [[random.randint(-10, 10) for _ in range(len_matrix)] for _ in range(len_matrix)]\n",
    "\n",
    "    return matrix\n",
    "\n",
    "random_matrix = generate_random_matrix()\n",
    "\n",
    "#  Code for finding determinant\n",
    "def get_minor(matrix, row, col):\n",
    "    return [row[:col] + row[col + 1:] for row in (matrix[:row] + matrix[row + 1:])]\n",
    "\n",
    "def get_determinant(matrix):\n",
    "    if len(matrix) == 1 and len(matrix[0]) == 1:\n",
    "        return matrix[0][0]\n",
    "\n",
    "    if len(matrix) == 2 and len(matrix[0]) == 2:\n",
    "        return matrix[0][0] * matrix[1][1] - matrix[0][1] * matrix[1][0]\n",
    "\n",
    "    det = 0\n",
    "    for j in range(len(matrix[0])):\n",
    "        det += ((-1) ** j) * matrix[0][j] * get_determinant(get_minor(matrix, 0, j))\n",
    "\n",
    "    return det\n",
    "\n",
    "def get_eigen(A, max_iterations = 50000):\n",
    "    assert len(A) == 0 or all(type(row) == list for row in A) and len(A) == len(A[0]), \"A should be a square matrix.\"\n",
    "\n",
    "    n = len(A)\n",
    "    if n == 0: return [], []\n",
    "    if n == 1: return [A[0][0]], [[1.]]\n",
    "\n",
    "    eigenvectors = []\n",
    "    eigenvalues = []\n",
    "\n",
    "    for _ in range(n):\n",
    "        eigvec = [random.random() for _ in range(n)]\n",
    "        norm_eigvec = sum(a ** 2 for a in eigvec) ** 0.5\n",
    "        eigvec = [a / norm_eigvec for a in eigvec]\n",
    "\n",
    "        # Power Method\n",
    "        for _ in range(max_iterations):\n",
    "            tf_eigvec = [sum(a * b for a, b in zip(row, eigvec)) for row in A]\n",
    "\n",
    "            norm_tf = sum(a ** 2 for a in tf_eigvec) ** 0.5\n",
    "            eigvec = [a / norm_tf for a in tf_eigvec]\n",
    "\n",
    "        eigval = sum(a * b for a, b in zip(tf_eigvec, eigvec))\n",
    "        eigenvalues.append(eigval)\n",
    "        eigenvectors.append(eigvec)\n",
    "\n",
    "        eigenval_outer_product = [[a * b for b in eigvec] for a in tf_eigvec]\n",
    "        A = [[A[i][j] - eigenval_outer_product[i][j] for j in range(n)] for i in range(n)]\n",
    "\n",
    "    return eigenvalues, [list(row) for row in zip(*eigenvectors)]\n",
    "\n",
    "eigenvalues, eigenvectors = get_eigen(random_matrix)\n",
    "\n",
    "#  printing output\n",
    "print(\"> Random Matrix:\")\n",
    "for row in random_matrix:\n",
    "    print(row)\n",
    "\n",
    "result_determinant = determinant(random_matrix)\n",
    "print(f\"\\n> Determinant: [{result_determinant}]\")\n",
    "\n",
    "print(\"\\n> Eigenvalues:\", eigenvalues)\n",
    "print(\"\\n> Eigenvectors:\")\n",
    "for vector in eigenvectors:\n",
    "    print(vector)"
   ],
   "metadata": {
    "collapsed": false
   }
  },
  {
   "cell_type": "code",
   "execution_count": null,
   "outputs": [],
   "source": [],
   "metadata": {
    "collapsed": false
   }
  }
 ],
 "metadata": {
  "kernelspec": {
   "display_name": "Python 3",
   "language": "python",
   "name": "python3"
  },
  "language_info": {
   "codemirror_mode": {
    "name": "ipython",
    "version": 2
   },
   "file_extension": ".py",
   "mimetype": "text/x-python",
   "name": "python",
   "nbconvert_exporter": "python",
   "pygments_lexer": "ipython2",
   "version": "2.7.6"
  }
 },
 "nbformat": 4,
 "nbformat_minor": 0
}
